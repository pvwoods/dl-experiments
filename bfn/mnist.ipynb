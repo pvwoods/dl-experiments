{
 "cells": [
  {
   "cell_type": "code",
   "execution_count": 1,
   "metadata": {},
   "outputs": [],
   "source": [
    "#!pip install vector-quantize-pytorch\n",
    "from vector_quantize_pytorch import VectorQuantize"
   ]
  },
  {
   "cell_type": "code",
   "execution_count": 2,
   "metadata": {},
   "outputs": [],
   "source": [
    "import torch\n",
    "import torch.nn as nn\n",
    "import torch.nn.functional as F\n",
    "import torch.optim as optim\n",
    "import torchvision\n",
    "import torchvision.transforms as transforms\n",
    "from torch.utils.data import DataLoader"
   ]
  },
  {
   "cell_type": "code",
   "execution_count": 3,
   "metadata": {},
   "outputs": [],
   "source": [
    "# Load MNIST dataset\n",
    "BATCH_SIZE = 128\n",
    "transform = transforms.Compose([transforms.ToTensor()])\n",
    "trainset = torchvision.datasets.MNIST(root='./data', train=True, download=True, transform=transform)\n",
    "trainloader = DataLoader(trainset, batch_size=BATCH_SIZE, shuffle=True)"
   ]
  },
  {
   "cell_type": "markdown",
   "metadata": {},
   "source": [
    "## Auto Encoder"
   ]
  },
  {
   "cell_type": "code",
   "execution_count": 4,
   "metadata": {},
   "outputs": [
    {
     "data": {
      "image/png": "[encoded data removed]",
      "text/plain": [
       "<Figure size 432x288 with 1 Axes>"
      ]
     },
     "metadata": {
      "needs_background": "light"
     },
     "output_type": "display_data"
    }
   ],
   "source": [
    "import matplotlib.pyplot as plt\n",
    "\n",
    "def display_image(image, title='Image'):\n",
    "    image = image.view(28, 28).cpu().detach().numpy()\n",
    "    \n",
    "    plt.imshow(image, cmap='gray')\n",
    "    plt.title(title)\n",
    "    plt.axis('off')\n",
    "    plt.show()\n",
    "\n",
    "images, _ = next(iter(trainloader))\n",
    "\n",
    "display_image(images[0])"
   ]
  },
  {
   "cell_type": "code",
   "execution_count": 51,
   "metadata": {},
   "outputs": [],
   "source": [
    "def count_parameters(model):\n",
    "    return sum(p.numel() for p in model.parameters() if p.requires_grad)\n",
    "\n",
    "class VQVAE2d(nn.Module):\n",
    "    def __init__(self, channels:int = 1, width=28, height=28, patch_width=7, patch_height=7, hidden_dims=512, bottleneck_dims=2, quantize=False, codebook_size=256):\n",
    "        super(VQVAE2d, self).__init__()\n",
    "\n",
    "        self.channels = channels\n",
    "        self.width = width\n",
    "        self.height = height\n",
    "        self.total_size = width * height * channels\n",
    "        self.patch_width = patch_width\n",
    "        self.patch_height = patch_height\n",
    "        self.num_patches_w = width / patch_width\n",
    "        self.num_patches_h = height / patch_height\n",
    "        self.total_patches = self.num_patches_w * self.num_patches_h\n",
    "        self.in_dims = patch_width * patch_height * channels\n",
    "        self.bottleneck_dims = bottleneck_dims\n",
    "        self.quantize = quantize\n",
    "        \n",
    "        self.encoder = nn.Sequential(\n",
    "            nn.Flatten(start_dim=1),\n",
    "            nn.Linear(self.in_dims, hidden_dims),\n",
    "            nn.ReLU(),\n",
    "            nn.Linear(hidden_dims, hidden_dims),\n",
    "            nn.ReLU(),\n",
    "            nn.Linear(hidden_dims, bottleneck_dims * 2)\n",
    "\n",
    "        )\n",
    "\n",
    "        if self.quantize:\n",
    "            self.vq = VectorQuantize(\n",
    "                dim = self.bottleneck_dims * 2,\n",
    "                codebook_size = codebook_size,     \n",
    "                decay = 0.8,             \n",
    "                commitment_weight = 1.\n",
    "            )\n",
    "        \n",
    "        self.decoder = nn.Sequential(\n",
    "            nn.Linear(bottleneck_dims, hidden_dims),\n",
    "            nn.ReLU(),\n",
    "            nn.Linear(hidden_dims, hidden_dims),\n",
    "            nn.ReLU(),\n",
    "            nn.Linear(hidden_dims, self.in_dims),\n",
    "            nn.Sigmoid()\n",
    "        )\n",
    "\n",
    "        self.global_refiner = nn.Sequential(\n",
    "            nn.Linear(self.total_size, hidden_dims),\n",
    "            nn.ReLU(),\n",
    "            nn.Linear(hidden_dims, hidden_dims),\n",
    "            nn.ReLU(),\n",
    "            nn.Linear(hidden_dims, self.total_size),\n",
    "            nn.Sigmoid()\n",
    "        )\n",
    "\n",
    "    def sample(self, x):\n",
    "        shift = x[:, :self.bottleneck_dims]\n",
    "        scale = torch.sqrt(torch.exp(x[:, self.bottleneck_dims:]))\n",
    "        samples = torch.randn_like(shift, device=x.device)\n",
    "        return shift + samples * scale\n",
    "    \n",
    "    @torch.inference_mode()\n",
    "    def quantized_decode(self, codes):\n",
    "\n",
    "        # TODO: rewrite to work on arbitrary batch size\n",
    "        encoded_x = self.vq.codebook[codes]\n",
    "        \n",
    "        sampled_x = self.sample(encoded_x)\n",
    "        decoded_x = self.decoder(sampled_x)\n",
    "        out = torch.reshape(decoded_x, (1, self.total_size))\n",
    "        out = torch.reshape(self.global_refiner(out), (1, self.channels, self.width, self.height))\n",
    "\n",
    "        return out\n",
    "\n",
    "\n",
    "        \n",
    "    def forward(self, x):\n",
    "        \n",
    "        B, C, W, H = x.shape\n",
    "        \n",
    "        patched_x = torch.reshape(x, (int(B * self.total_patches), C, self.patch_width, self.patch_height))\n",
    "        \n",
    "        encoded_x = self.encoder(patched_x)\n",
    "        \n",
    "        if self.quantize:\n",
    "            encoded_x, vq_i, vq_l = self.vq(encoded_x)\n",
    "        \n",
    "        sampled_x = self.sample(encoded_x)    \n",
    "        out = torch.reshape(self.decoder(sampled_x), (B, C * W * H))\n",
    "        out = torch.reshape(self.global_refiner(out), (B, C, W, H))\n",
    "\n",
    "        return out, vq_i, vq_l if self.quantize else out\n",
    "        "
   ]
  },
  {
   "cell_type": "code",
   "execution_count": 55,
   "metadata": {},
   "outputs": [
    {
     "name": "stdout",
     "output_type": "stream",
     "text": [
      "1646405\n",
      "Epoch [1/40], Loss: 0.0708\n",
      "Epoch [2/40], Loss: 0.0671\n",
      "Epoch [3/40], Loss: 0.0677\n",
      "Epoch [4/40], Loss: 0.0718\n",
      "Epoch [5/40], Loss: 0.0574\n",
      "Epoch [6/40], Loss: 0.0442\n",
      "Epoch [7/40], Loss: 0.0384\n",
      "Epoch [8/40], Loss: 0.0365\n",
      "Epoch [9/40], Loss: 0.0334\n",
      "Epoch [10/40], Loss: 0.0330\n",
      "Epoch [11/40], Loss: 0.0301\n",
      "Epoch [12/40], Loss: 0.0294\n",
      "Epoch [13/40], Loss: 0.0264\n",
      "Epoch [14/40], Loss: 0.0270\n",
      "Epoch [15/40], Loss: 0.0281\n",
      "Epoch [16/40], Loss: 0.0257\n",
      "Epoch [17/40], Loss: 0.0250\n",
      "Epoch [18/40], Loss: 0.0248\n",
      "Epoch [19/40], Loss: 0.0230\n",
      "Epoch [20/40], Loss: 0.0236\n",
      "Epoch [21/40], Loss: 0.0206\n",
      "Epoch [22/40], Loss: 0.0249\n",
      "Epoch [23/40], Loss: 0.0221\n",
      "Epoch [24/40], Loss: 0.0225\n",
      "Epoch [25/40], Loss: 0.0220\n",
      "Epoch [26/40], Loss: 0.0229\n",
      "Epoch [27/40], Loss: 0.0204\n",
      "Epoch [28/40], Loss: 0.0220\n",
      "Epoch [29/40], Loss: 0.0208\n",
      "Epoch [30/40], Loss: 0.0191\n",
      "Epoch [31/40], Loss: 0.0238\n",
      "Epoch [32/40], Loss: 0.0230\n",
      "Epoch [33/40], Loss: 0.0208\n",
      "Epoch [34/40], Loss: 0.0193\n",
      "Epoch [35/40], Loss: 0.0178\n",
      "Epoch [36/40], Loss: 0.0203\n",
      "Epoch [37/40], Loss: 0.0207\n",
      "Epoch [38/40], Loss: 0.0200\n",
      "Epoch [39/40], Loss: 0.0185\n",
      "Epoch [40/40], Loss: 0.0210\n"
     ]
    }
   ],
   "source": [
    "QUANTIZE = True\n",
    "NUM_PATCHES = 16\n",
    "CODEBOOK_SIZE = 32\n",
    "\n",
    "ae_model = VQVAE2d(hidden_dims=512, bottleneck_dims=2, codebook_size=CODEBOOK_SIZE, quantize=QUANTIZE)\n",
    "ae_model.to('cuda')\n",
    "\n",
    "print(count_parameters(ae_model))\n",
    "\n",
    "criterion = nn.MSELoss()\n",
    "optimizer = optim.Adam(ae_model.parameters(), lr=1e-4)\n",
    "epochs = 40\n",
    "\n",
    "for epoch in range(epochs):\n",
    "    for data in trainloader:\n",
    "        img, _ = data\n",
    "        img = img.to('cuda')\n",
    "        optimizer.zero_grad()\n",
    "        if QUANTIZE:\n",
    "            output, indices, vq_loss = ae_model(img)\n",
    "        else:\n",
    "            output = ae_model(img)\n",
    "        loss = criterion(output, img)\n",
    "        if QUANTIZE:\n",
    "            loss += vq_loss.squeeze()\n",
    "        loss.backward()\n",
    "        optimizer.step()\n",
    "    print(f\"Epoch [{epoch + 1}/{epochs}], Loss: {loss.item():.4f}\")"
   ]
  },
  {
   "cell_type": "code",
   "execution_count": 56,
   "metadata": {},
   "outputs": [
    {
     "data": {
      "image/png": "[encoded data removed]",
      "text/plain": [
       "<Figure size 432x288 with 1 Axes>"
      ]
     },
     "metadata": {
      "needs_background": "light"
     },
     "output_type": "display_data"
    },
    {
     "data": {
      "image/png": "[encoded data removed]",
      "text/plain": [
       "<Figure size 432x288 with 1 Axes>"
      ]
     },
     "metadata": {
      "needs_background": "light"
     },
     "output_type": "display_data"
    },
    {
     "data": {
      "text/plain": [
       "tensor([25, 31,  3,  5,  0, 15, 16, 15, 23, 19, 23, 26, 19, 25, 25, 25],\n",
       "       device='cuda:0')"
      ]
     },
     "execution_count": 56,
     "metadata": {},
     "output_type": "execute_result"
    }
   ],
   "source": [
    "i=torch.randint(img.shape[0], (1,))\n",
    "display_image(img[i].cpu())\n",
    "if QUANTIZE:\n",
    "    image, codes, _ = ae_model(img[i])\n",
    "else:\n",
    "    image = ae_model(img[i])\n",
    "display_image(image.cpu())\n",
    "codes"
   ]
  },
  {
   "cell_type": "code",
   "execution_count": 57,
   "metadata": {},
   "outputs": [
    {
     "data": {
      "image/png": "[encoded data removed]",
      "text/plain": [
       "<Figure size 432x288 with 1 Axes>"
      ]
     },
     "metadata": {
      "needs_background": "light"
     },
     "output_type": "display_data"
    }
   ],
   "source": [
    "image = ae_model.quantized_decode(codes)\n",
    "display_image(image.cpu())"
   ]
  },
  {
   "cell_type": "markdown",
   "metadata": {},
   "source": [
    "## Bayesian Flow Network"
   ]
  },
  {
   "cell_type": "code",
   "execution_count": 74,
   "metadata": {},
   "outputs": [],
   "source": [
    "class BayesianFlowNetwork(nn.Module):\n",
    "    \"\"\"\n",
    "    Bayesian Flow Network (BFN) model.\n",
    "\n",
    "    Parameters\n",
    "    ----------\n",
    "    D : int, default=2\n",
    "        Dimensionality of the data.\n",
    "    K : int, default=2\n",
    "        Number of classes.\n",
    "    hidden_dim : int, default=16\n",
    "        Dimension of the hidden layer.\n",
    "    \"\"\"\n",
    "\n",
    "    def __init__(self, D=2, K=2, hidden_dim=32, beta=3.0):\n",
    "        super(BayesianFlowNetwork, self).__init__()\n",
    "        self.beta = beta\n",
    "        self.D = D\n",
    "        self.K = K\n",
    "        # Define the number of output classes based on K\n",
    "        output_classes = K if K > 2 else 1\n",
    "\n",
    "        # Define the neural network layers\n",
    "        self.layer = nn.Sequential(\n",
    "            nn.Linear(D * K + 1, hidden_dim),\n",
    "            nn.GELU(),\n",
    "            nn.Linear(hidden_dim, hidden_dim),\n",
    "            nn.GELU(),\n",
    "            nn.Linear(hidden_dim, D * output_classes)\n",
    "        )\n",
    "\n",
    "    def forward(self, theta, t):\n",
    "        \"\"\"\n",
    "        Forward pass of the Bayesian Flow Network.\n",
    "\n",
    "        Parameters\n",
    "        ----------\n",
    "        theta : torch.Tensor\n",
    "            Tensor of shape (B, D, K).\n",
    "        t : torch.Tensor\n",
    "            Tensor of shape (B,).\n",
    "\n",
    "        Returns\n",
    "        -------\n",
    "        torch.Tensor\n",
    "            Output tensor of shape (B, D, K).\n",
    "        \"\"\"\n",
    "        theta = (theta * 2) - 1  # scaled in [-1, 1]\n",
    "        theta = theta.view(theta.shape[0], -1)  # (B, D * K)\n",
    "        input_ = torch.cat((theta, t.unsqueeze(-1)), dim=-1)\n",
    "        output = self.layer(input_)  # (B, D * K)\n",
    "        output = output.view(output.shape[0], self.D, -1)\n",
    "        return output\n",
    "\n",
    "\n",
    "    def discrete_output_distribution(self, theta, t):\n",
    "        \"\"\"\n",
    "        Computes the discrete output distribution.\n",
    "\n",
    "        Algorithm\n",
    "\n",
    "        Parameters\n",
    "        ----------\n",
    "        theta : torch.Tensor\n",
    "            Input tensor of shape (B, D, K).\n",
    "        t : torch.Tensor\n",
    "            Time tensor of shape (B,).\n",
    "\n",
    "        Returns\n",
    "        -------\n",
    "        torch.Tensor\n",
    "            Output probability tensor. For K=2, shape is (B, D, 2).\n",
    "            Otherwise, shape is (B, D, K).\n",
    "        \"\"\"\n",
    "        B, D, K = theta.shape\n",
    "\n",
    "        # Get the forward pass output and reshape\n",
    "        output = self.forward(theta, t)\n",
    "\n",
    "        # Check the number of classes and compute the output probabilities accordingly\n",
    "        if K == 2:\n",
    "            p0_1 = torch.sigmoid(output)  # (B, D, 1)\n",
    "            p0_2 = 1 - p0_1\n",
    "            p0 = torch.cat((p0_1, p0_2), dim=-1)  # (B, D, 2)\n",
    "        else:\n",
    "            p0 = torch.nn.functional.softmax(output, dim=-1)\n",
    "        return p0\n",
    "\n",
    "    def process(self, x):\n",
    "        B, D = x.shape\n",
    "\n",
    "        # Step 1: Sample t from U(0, 1)\n",
    "        t = torch.rand((x.size(0),), device=x.device, dtype=torch.float32)\n",
    "\n",
    "        # Step 2: Calculate Beta\n",
    "        beta = self.beta * (t ** 2)  # (B,)\n",
    "\n",
    "        # Step 3: Sample y from N(beta * (K * one_hot(X))\n",
    "        one_hot_x = F.one_hot(x, num_classes=self.K).float()  # (B, D, K)\n",
    "        mean = beta[:, None, None] * (self.K * one_hot_x - 1)\n",
    "        std = (beta * self.K)[:, None, None].sqrt()\n",
    "        eps = torch.randn_like(mean)\n",
    "        y = mean + std * eps\n",
    "\n",
    "        # Step 4: Compute the Theta\n",
    "        theta = F.softmax(y, dim=-1)\n",
    "\n",
    "        # Step 5: Calculate the output distribution\n",
    "        p_0 = self.discrete_output_distribution(theta, t)  # (B, D, K)\n",
    "\n",
    "        e_x = one_hot_x\n",
    "        e_hat = p_0  # (B, D, K)\n",
    "        L_infinity = self.K * self.beta * t[:, None, None] * ((e_x - e_hat) ** 2)\n",
    "        return L_infinity.mean()\n",
    "\n",
    "    def sample_with_prompt(self, prompt, batch_size=16, nb_steps=10, device='cpu'):\n",
    "      one_hot_prompt = F.one_hot(prompt.repeat(batch_size, 1), num_classes=self.K).float()\n",
    "      # replace any . index with even probability\n",
    "      random_mask = one_hot_prompt[:, :, 0] == 1\n",
    "      apply_mask = one_hot_prompt[:, :, 0] != 1\n",
    "      one_hot_prompt[random_mask] = 1 / self.K\n",
    "      return self.sample(batch_size=batch_size, theta=one_hot_prompt, apply_mask=apply_mask, nb_steps=nb_steps, device=device)\n",
    "\n",
    "    @torch.inference_mode()\n",
    "    def sample(self, batch_size=128, nb_steps=10, theta=None, apply_mask=None, device='cpu'):\n",
    "        self.eval()\n",
    "\n",
    "        # get prior\n",
    "        if theta == None:\n",
    "          theta = torch.ones((batch_size, self.D, self.K), device=device) / self.K\n",
    "\n",
    "        for i in range(1, nb_steps+1):\n",
    "            t = (i-1) / nb_steps\n",
    "            t = t * torch.ones((theta.shape[0]), device=theta.device, dtype=theta.dtype)\n",
    "\n",
    "            k_probs = self.discrete_output_distribution(theta, t)  # (B, D, K)\n",
    "            k = torch.distributions.Categorical(probs=k_probs).sample()  # (B, D)\n",
    "            alpha = self.beta * (2 * i - 1) / (nb_steps ** 2)\n",
    "\n",
    "            e_k = F.one_hot(k, num_classes=self.K).float()  # (B, D, K)\n",
    "            mean = alpha * (self.K * e_k - 1)\n",
    "            var = (alpha * self.K)\n",
    "            std = torch.full_like(mean, fill_value=var).sqrt()\n",
    "            eps = torch.randn_like(e_k)\n",
    "\n",
    "            y = mean + std * eps  # (B, D, K)\n",
    "\n",
    "            theta_prime = torch.exp(y) * theta\n",
    "            theta_ = theta_prime / theta_prime.sum(-1, keepdim=True)\n",
    "            if apply_mask != None:\n",
    "              theta_[apply_mask] = theta[apply_mask]\n",
    "            theta = theta_\n",
    "\n",
    "        k_probs_final = self.discrete_output_distribution(theta, torch.ones_like(t))\n",
    "        if apply_mask != None:\n",
    "            k_probs_final[apply_mask] = theta[apply_mask]\n",
    "        k_final = torch.distributions.Categorical(probs=k_probs_final).sample()\n",
    "\n",
    "        return k_final"
   ]
  },
  {
   "cell_type": "code",
   "execution_count": 75,
   "metadata": {},
   "outputs": [
    {
     "name": "stdout",
     "output_type": "stream",
     "text": [
      "2100736\n",
      "Epoch [1/40], Loss: 0.5625\n",
      "Epoch [2/40], Loss: 0.3268\n",
      "Epoch [3/40], Loss: 0.1958\n",
      "Epoch [4/40], Loss: 0.1880\n",
      "Epoch [5/40], Loss: 0.1388\n",
      "Epoch [6/40], Loss: 0.1206\n",
      "Epoch [7/40], Loss: 0.1108\n",
      "Epoch [8/40], Loss: 0.1211\n",
      "Epoch [9/40], Loss: 0.0998\n",
      "Epoch [10/40], Loss: 0.1193\n",
      "Epoch [11/40], Loss: 0.1235\n",
      "Epoch [12/40], Loss: 0.0860\n",
      "Epoch [13/40], Loss: 0.0960\n",
      "Epoch [14/40], Loss: 0.1058\n",
      "Epoch [15/40], Loss: 0.0949\n",
      "Epoch [16/40], Loss: 0.1225\n",
      "Epoch [17/40], Loss: 0.0991\n",
      "Epoch [18/40], Loss: 0.1086\n",
      "Epoch [19/40], Loss: 0.0992\n",
      "Epoch [20/40], Loss: 0.1018\n",
      "Epoch [21/40], Loss: 0.1144\n",
      "Epoch [22/40], Loss: 0.1081\n",
      "Epoch [23/40], Loss: 0.1127\n",
      "Epoch [24/40], Loss: 0.0965\n",
      "Epoch [25/40], Loss: 0.1027\n",
      "Epoch [26/40], Loss: 0.0891\n",
      "Epoch [27/40], Loss: 0.0974\n",
      "Epoch [28/40], Loss: 0.1041\n",
      "Epoch [29/40], Loss: 0.1154\n",
      "Epoch [30/40], Loss: 0.1035\n",
      "Epoch [31/40], Loss: 0.1004\n",
      "Epoch [32/40], Loss: 0.0789\n",
      "Epoch [33/40], Loss: 0.0879\n",
      "Epoch [34/40], Loss: 0.1146\n",
      "Epoch [35/40], Loss: 0.1390\n",
      "Epoch [36/40], Loss: 0.1138\n",
      "Epoch [37/40], Loss: 0.1130\n",
      "Epoch [38/40], Loss: 0.0911\n",
      "Epoch [39/40], Loss: 0.0996\n",
      "Epoch [40/40], Loss: 0.1105\n"
     ]
    }
   ],
   "source": [
    "ae_model.train(False)\n",
    "\n",
    "model = BayesianFlowNetwork(D=NUM_PATCHES, K=CODEBOOK_SIZE, hidden_dim=1024)\n",
    "model.to('cuda')\n",
    "\n",
    "print(count_parameters(model))\n",
    "\n",
    "losses = []\n",
    "\n",
    "optimizer = optim.Adam(model.parameters())\n",
    "epochs = 40\n",
    "\n",
    "ae_model.cpu()\n",
    "\n",
    "\n",
    "for epoch in range(epochs):\n",
    "  for data in trainloader:\n",
    "    model.zero_grad()\n",
    "    with torch.no_grad():\n",
    "      img, _ = data\n",
    "      _, img_codes, _ = ae_model(img)\n",
    "    \n",
    "    codes = torch.reshape(img_codes.to('cuda'), (-1, NUM_PATCHES))\n",
    "    loss = model.process(codes)\n",
    "    losses.append(loss.item())\n",
    "\n",
    "    loss.backward()\n",
    "    optimizer.step()\n",
    "  print(f\"Epoch [{epoch + 1}/{epochs}], Loss: {loss.item():.4f}\")"
   ]
  },
  {
   "cell_type": "code",
   "execution_count": 76,
   "metadata": {},
   "outputs": [
    {
     "data": {
      "image/png": "[encoded data removed]",
      "text/plain": [
       "<Figure size 432x288 with 1 Axes>"
      ]
     },
     "metadata": {
      "needs_background": "light"
     },
     "output_type": "display_data"
    }
   ],
   "source": [
    "plt.plot(torch.tensor(losses).view(-1, 10).mean(1))\n",
    "plt.title(\"average loss\");"
   ]
  },
  {
   "cell_type": "code",
   "execution_count": 77,
   "metadata": {},
   "outputs": [
    {
     "data": {
      "text/plain": [
       "96"
      ]
     },
     "execution_count": 77,
     "metadata": {},
     "output_type": "execute_result"
    }
   ],
   "source": [
    "model = model.cpu()\n",
    "outputs = model.sample(nb_steps=100).cpu().numpy()\n",
    "len(output)"
   ]
  },
  {
   "cell_type": "code",
   "execution_count": 78,
   "metadata": {},
   "outputs": [
    {
     "data": {
      "image/png": "[encoded data removed]",
      "text/plain": [
       "<Figure size 432x288 with 1 Axes>"
      ]
     },
     "metadata": {
      "needs_background": "light"
     },
     "output_type": "display_data"
    },
    {
     "data": {
      "image/png": "[encoded data removed]",
      "text/plain": [
       "<Figure size 432x288 with 1 Axes>"
      ]
     },
     "metadata": {
      "needs_background": "light"
     },
     "output_type": "display_data"
    },
    {
     "data": {
      "image/png": "[encoded data removed]",
      "text/plain": [
       "<Figure size 432x288 with 1 Axes>"
      ]
     },
     "metadata": {
      "needs_background": "light"
     },
     "output_type": "display_data"
    },
    {
     "data": {
      "image/png": "[encoded data removed]",
      "text/plain": [
       "<Figure size 432x288 with 1 Axes>"
      ]
     },
     "metadata": {
      "needs_background": "light"
     },
     "output_type": "display_data"
    },
    {
     "data": {
      "image/png": "[encoded data removed]",
      "text/plain": [
       "<Figure size 432x288 with 1 Axes>"
      ]
     },
     "metadata": {
      "needs_background": "light"
     },
     "output_type": "display_data"
    },
    {
     "data": {
      "image/png": "[encoded data removed]",
      "text/plain": [
       "<Figure size 432x288 with 1 Axes>"
      ]
     },
     "metadata": {
      "needs_background": "light"
     },
     "output_type": "display_data"
    },
    {
     "data": {
      "image/png": "[encoded data removed]",
      "text/plain": [
       "<Figure size 432x288 with 1 Axes>"
      ]
     },
     "metadata": {
      "needs_background": "light"
     },
     "output_type": "display_data"
    },
    {
     "data": {
      "image/png": "[encoded data removed]",
      "text/plain": [
       "<Figure size 432x288 with 1 Axes>"
      ]
     },
     "metadata": {
      "needs_background": "light"
     },
     "output_type": "display_data"
    },
    {
     "data": {
      "image/png": "[encoded data removed]",
      "text/plain": [
       "<Figure size 432x288 with 1 Axes>"
      ]
     },
     "metadata": {
      "needs_background": "light"
     },
     "output_type": "display_data"
    },
    {
     "data": {
      "image/png": "[encoded data removed]",
      "text/plain": [
       "<Figure size 432x288 with 1 Axes>"
      ]
     },
     "metadata": {
      "needs_background": "light"
     },
     "output_type": "display_data"
    },
    {
     "data": {
      "image/png": "[encoded data removed]",
      "text/plain": [
       "<Figure size 432x288 with 1 Axes>"
      ]
     },
     "metadata": {
      "needs_background": "light"
     },
     "output_type": "display_data"
    },
    {
     "data": {
      "image/png": "[encoded data removed]",
      "text/plain": [
       "<Figure size 432x288 with 1 Axes>"
      ]
     },
     "metadata": {
      "needs_background": "light"
     },
     "output_type": "display_data"
    },
    {
     "data": {
      "image/png": "[encoded data removed]",
      "text/plain": [
       "<Figure size 432x288 with 1 Axes>"
      ]
     },
     "metadata": {
      "needs_background": "light"
     },
     "output_type": "display_data"
    },
    {
     "data": {
      "image/png": "[encoded data removed]",
      "text/plain": [
       "<Figure size 432x288 with 1 Axes>"
      ]
     },
     "metadata": {
      "needs_background": "light"
     },
     "output_type": "display_data"
    },
    {
     "data": {
      "image/png": "[encoded data removed]",
      "text/plain": [
       "<Figure size 432x288 with 1 Axes>"
      ]
     },
     "metadata": {
      "needs_background": "light"
     },
     "output_type": "display_data"
    },
    {
     "data": {
      "image/png": "[encoded data removed]",
      "text/plain": [
       "<Figure size 432x288 with 1 Axes>"
      ]
     },
     "metadata": {
      "needs_background": "light"
     },
     "output_type": "display_data"
    }
   ],
   "source": [
    "i = 0\n",
    "for i in range(16):\n",
    "    image = ae_model.quantized_decode(torch.tensor(outputs[i]))\n",
    "    display_image(image.cpu())"
   ]
  }
 ],
 "metadata": {
  "kernelspec": {
   "display_name": "practical",
   "language": "python",
   "name": "python3"
  },
  "language_info": {
   "codemirror_mode": {
    "name": "ipython",
    "version": 3
   },
   "file_extension": ".py",
   "mimetype": "text/x-python",
   "name": "python",
   "nbconvert_exporter": "python",
   "pygments_lexer": "ipython3",
   "version": "3.10.8"
  },
  "orig_nbformat": 4
 },
 "nbformat": 4,
 "nbformat_minor": 2
}
