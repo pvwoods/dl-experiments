{
 "cells": [
  {
   "cell_type": "code",
   "execution_count": 1,
   "metadata": {},
   "outputs": [],
   "source": [
    "#!pip install vector-quantize-pytorch"
   ]
  },
  {
   "cell_type": "code",
   "execution_count": 66,
   "metadata": {},
   "outputs": [],
   "source": [
    "import torch\n",
    "import torch.nn as nn\n",
    "import torch.nn.functional as F\n",
    "import torch.optim as optim\n",
    "import torchvision\n",
    "import torchvision.transforms as transforms\n",
    "from torch.utils.data import DataLoader\n",
    "from vector_quantize_pytorch import VectorQuantize\n",
    "from tqdm.notebook import tqdm, trange\n"
   ]
  },
  {
   "cell_type": "code",
   "execution_count": 2,
   "metadata": {},
   "outputs": [],
   "source": [
    "# Load MNIST dataset\n",
    "BATCH_SIZE = 128\n",
    "transform = transforms.Compose([transforms.ToTensor()])\n",
    "trainset = torchvision.datasets.MNIST(root='./data', train=True, download=True, transform=transform)\n",
    "trainloader = DataLoader(trainset, batch_size=BATCH_SIZE, shuffle=True)"
   ]
  },
  {
   "cell_type": "markdown",
   "metadata": {},
   "source": [
    "## Auto Encoder"
   ]
  },
  {
   "cell_type": "code",
   "execution_count": 3,
   "metadata": {},
   "outputs": [
    {
     "data": {
      "image/png": "[encoded data removed]",
      "text/plain": [
       "<Figure size 432x288 with 1 Axes>"
      ]
     },
     "metadata": {
      "needs_background": "light"
     },
     "output_type": "display_data"
    }
   ],
   "source": [
    "import matplotlib.pyplot as plt\n",
    "\n",
    "def display_image(image, title='Image'):\n",
    "    image = image.view(28, 28).cpu().detach().numpy()\n",
    "    \n",
    "    plt.imshow(image, cmap='gray')\n",
    "    plt.title(title)\n",
    "    plt.axis('off')\n",
    "    plt.show()\n",
    "\n",
    "images, _ = next(iter(trainloader))\n",
    "\n",
    "display_image(images[0])"
   ]
  },
  {
   "cell_type": "code",
   "execution_count": 4,
   "metadata": {},
   "outputs": [],
   "source": [
    "def count_parameters(model):\n",
    "    return sum(p.numel() for p in model.parameters() if p.requires_grad)\n",
    "\n",
    "class VQVAE2d(nn.Module):\n",
    "    def __init__(self, channels:int = 1, width=28, height=28, patch_width=7, patch_height=7, hidden_dims=512, bottleneck_dims=2, quantize=False, codebook_size=256):\n",
    "        super(VQVAE2d, self).__init__()\n",
    "\n",
    "        self.channels = channels\n",
    "        self.width = width\n",
    "        self.height = height\n",
    "        self.total_size = width * height * channels\n",
    "        self.patch_width = patch_width\n",
    "        self.patch_height = patch_height\n",
    "        self.num_patches_w = width / patch_width\n",
    "        self.num_patches_h = height / patch_height\n",
    "        self.total_patches = self.num_patches_w * self.num_patches_h\n",
    "        self.in_dims = patch_width * patch_height * channels\n",
    "        self.bottleneck_dims = bottleneck_dims\n",
    "        self.quantize = quantize\n",
    "        \n",
    "        self.encoder = nn.Sequential(\n",
    "            nn.Flatten(start_dim=1),\n",
    "            nn.Linear(self.in_dims, hidden_dims),\n",
    "            nn.ReLU(),\n",
    "            nn.Linear(hidden_dims, hidden_dims),\n",
    "            nn.ReLU(),\n",
    "            nn.Linear(hidden_dims, bottleneck_dims * 2)\n",
    "\n",
    "        )\n",
    "\n",
    "        if self.quantize:\n",
    "            self.vq = VectorQuantize(\n",
    "                dim = self.bottleneck_dims * 2,\n",
    "                codebook_size = codebook_size,     \n",
    "                decay = 0.8,             \n",
    "                commitment_weight = 1.\n",
    "            )\n",
    "        \n",
    "        self.decoder = nn.Sequential(\n",
    "            nn.Linear(bottleneck_dims, hidden_dims),\n",
    "            nn.ReLU(),\n",
    "            nn.Linear(hidden_dims, hidden_dims),\n",
    "            nn.ReLU(),\n",
    "            nn.Linear(hidden_dims, self.in_dims),\n",
    "            nn.Sigmoid()\n",
    "        )\n",
    "\n",
    "        self.global_refiner = nn.Sequential(\n",
    "            nn.Linear(self.total_size, hidden_dims),\n",
    "            nn.ReLU(),\n",
    "            nn.Linear(hidden_dims, hidden_dims),\n",
    "            nn.ReLU(),\n",
    "            nn.Linear(hidden_dims, self.total_size),\n",
    "            nn.Sigmoid()\n",
    "        )\n",
    "\n",
    "    def sample(self, x):\n",
    "        shift = x[:, :self.bottleneck_dims]\n",
    "        scale = torch.sqrt(torch.exp(x[:, self.bottleneck_dims:]))\n",
    "        samples = torch.randn_like(shift, device=x.device)\n",
    "        return shift + samples * scale\n",
    "    \n",
    "    @torch.inference_mode()\n",
    "    def quantized_decode(self, codes):\n",
    "\n",
    "        # TODO: rewrite to work on arbitrary batch size\n",
    "        encoded_x = self.vq.codebook[codes]\n",
    "        \n",
    "        sampled_x = self.sample(encoded_x)\n",
    "        decoded_x = self.decoder(sampled_x)\n",
    "        out = torch.reshape(decoded_x, (1, self.total_size))\n",
    "        out = torch.reshape(self.global_refiner(out), (1, self.channels, self.width, self.height))\n",
    "\n",
    "        return out\n",
    "\n",
    "\n",
    "        \n",
    "    def forward(self, x):\n",
    "        \n",
    "        B, C, W, H = x.shape\n",
    "        \n",
    "        patched_x = torch.reshape(x, (int(B * self.total_patches), C, self.patch_width, self.patch_height))\n",
    "        \n",
    "        encoded_x = self.encoder(patched_x)\n",
    "        \n",
    "        if self.quantize:\n",
    "            encoded_x, vq_i, vq_l = self.vq(encoded_x)\n",
    "        \n",
    "        sampled_x = self.sample(encoded_x)    \n",
    "        out = torch.reshape(self.decoder(sampled_x), (B, C * W * H))\n",
    "        out = torch.reshape(self.global_refiner(out), (B, C, W, H))\n",
    "\n",
    "        return out, vq_i, vq_l if self.quantize else out\n",
    "        "
   ]
  },
  {
   "cell_type": "code",
   "execution_count": 69,
   "metadata": {},
   "outputs": [
    {
     "name": "stdout",
     "output_type": "stream",
     "text": [
      "1646405 parameters\n",
      "Training model for 40 epochs\n"
     ]
    },
    {
     "data": {
      "application/vnd.jupyter.widget-view+json": {
       "model_id": "0ac2b32361134ba9a6934b4b94a39a7a",
       "version_major": 2,
       "version_minor": 0
      },
      "text/plain": [
       "Epochs:   0%|          | 0/40 [00:00<?, ?it/s]"
      ]
     },
     "metadata": {},
     "output_type": "display_data"
    }
   ],
   "source": [
    "QUANTIZE = True\n",
    "NUM_PATCHES = 16\n",
    "CODEBOOK_SIZE = 64\n",
    "DEVICE = 'cuda'\n",
    "AE_MODEL_PATH = './ae_model.pt'\n",
    "USE_CHECKPOINT = False\n",
    "SHOULD_TRAIN = True\n",
    "EPOCHS = 40\n",
    "LR = 1e-4\n",
    "\n",
    "ae_model = VQVAE2d(hidden_dims=512, bottleneck_dims=2, codebook_size=CODEBOOK_SIZE, quantize=QUANTIZE)\n",
    "print(f'{count_parameters(ae_model)} parameters')\n",
    "\n",
    "if USE_CHECKPOINT:\n",
    "    ae_model.load_state_dict(torch.load(AE_MODEL_PATH))\n",
    "    print(\"Loaded Model from checkpoint\")\n",
    "\n",
    "if SHOULD_TRAIN:\n",
    "\n",
    "    print(f\"Training model for {EPOCHS} epochs\")\n",
    "\n",
    "    ae_model.to(DEVICE)\n",
    "\n",
    "    criterion = nn.MSELoss()\n",
    "    optimizer = optim.Adam(ae_model.parameters(), lr=LR)\n",
    "\n",
    "    epoch_counter = trange(EPOCHS, desc='Epochs')\n",
    "\n",
    "    for epoch in epoch_counter:\n",
    "        for data in trainloader:\n",
    "            img, _ = data\n",
    "            img = img.to(DEVICE)\n",
    "            optimizer.zero_grad()\n",
    "            if QUANTIZE:\n",
    "                output, indices, vq_loss = ae_model(img)\n",
    "            else:\n",
    "                output = ae_model(img)\n",
    "            loss = criterion(output, img)\n",
    "            if QUANTIZE:\n",
    "                loss += vq_loss.squeeze()\n",
    "            loss.backward()\n",
    "            optimizer.step()\n",
    "        epoch_counter.set_description(f\"Last Loss: {loss.item():.4f}\")\n",
    "\n",
    "    torch.save(ae_model.state_dict(), AE_MODEL_PATH)"
   ]
  },
  {
   "cell_type": "code",
   "execution_count": 89,
   "metadata": {},
   "outputs": [
    {
     "data": {
      "image/png": "[encoded data removed]",
      "text/plain": [
       "<Figure size 432x288 with 1 Axes>"
      ]
     },
     "metadata": {
      "needs_background": "light"
     },
     "output_type": "display_data"
    },
    {
     "data": {
      "image/png": "[encoded data removed]",
      "text/plain": [
       "<Figure size 432x288 with 1 Axes>"
      ]
     },
     "metadata": {
      "needs_background": "light"
     },
     "output_type": "display_data"
    },
    {
     "data": {
      "text/plain": [
       "tensor([10, 10, 61, 13, 62, 47, 10, 10, 61, 11, 47, 48, 23, 60, 10, 10])"
      ]
     },
     "execution_count": 89,
     "metadata": {},
     "output_type": "execute_result"
    }
   ],
   "source": [
    "ae_model = ae_model.cpu()\n",
    "\n",
    "img, _ = next(iter(trainloader))\n",
    "i=torch.randint(img.shape[0], (1,))\n",
    "display_image(img[i].cpu())\n",
    "if QUANTIZE:\n",
    "    image, codes, _ = ae_model(img[i])\n",
    "else:\n",
    "    image = ae_model(img[i])\n",
    "display_image(image.cpu())\n",
    "codes"
   ]
  },
  {
   "cell_type": "code",
   "execution_count": 90,
   "metadata": {},
   "outputs": [
    {
     "data": {
      "image/png": "[encoded data removed]",
      "text/plain": [
       "<Figure size 432x288 with 1 Axes>"
      ]
     },
     "metadata": {
      "needs_background": "light"
     },
     "output_type": "display_data"
    }
   ],
   "source": [
    "image = ae_model.quantized_decode(codes)\n",
    "display_image(image.cpu())"
   ]
  },
  {
   "cell_type": "markdown",
   "metadata": {},
   "source": [
    "## Bayesian Flow Network"
   ]
  },
  {
   "cell_type": "code",
   "execution_count": 91,
   "metadata": {},
   "outputs": [],
   "source": [
    "class BayesianFlowNetwork(nn.Module):\n",
    "    \"\"\"\n",
    "    Bayesian Flow Network (BFN) model.\n",
    "\n",
    "    Parameters\n",
    "    ----------\n",
    "    D : int, default=2\n",
    "        Dimensionality of the data.\n",
    "    K : int, default=2\n",
    "        Number of classes.\n",
    "    hidden_dim : int, default=16\n",
    "        Dimension of the hidden layer.\n",
    "    \"\"\"\n",
    "\n",
    "    def __init__(self, D=2, K=2, E=2, hidden_dim=32, beta=3.0):\n",
    "        super(BayesianFlowNetwork, self).__init__()\n",
    "        self.beta = beta\n",
    "        self.D = D\n",
    "        self.K = K\n",
    "        self.E = E\n",
    "        \n",
    "        output_classes = K if K > 2 else 1\n",
    "\n",
    "        self.layer = nn.Sequential(\n",
    "            nn.Linear(D * K + E + 1, hidden_dim),\n",
    "            nn.GELU(),\n",
    "            nn.Linear(hidden_dim, hidden_dim),\n",
    "            nn.GELU(),\n",
    "            nn.Linear(hidden_dim, D * output_classes)\n",
    "        )\n",
    "\n",
    "    def forward(self, theta, t, e):\n",
    "        \n",
    "\n",
    "        theta = (theta * 2) - 1  # scaled in [-1, 1]\n",
    "        theta = theta.view(theta.shape[0], -1)  # (B, D * K)\n",
    "        input_ = torch.cat((theta, t.unsqueeze(-1), e), dim=-1)\n",
    "        output = self.layer(input_)  # (B, D * K)\n",
    "        output = output.view(output.shape[0], self.D, -1)\n",
    "        return output\n",
    "\n",
    "\n",
    "    def discrete_output_distribution(self, theta, t, e):\n",
    "        \n",
    "        B, D, K = theta.shape\n",
    "\n",
    "        output = self.forward(theta, t, e)\n",
    "\n",
    "        if K == 2:\n",
    "            p0_1 = torch.sigmoid(output)  # (B, D, 1)\n",
    "            p0_2 = 1 - p0_1\n",
    "            p0 = torch.cat((p0_1, p0_2), dim=-1)  # (B, D, 2)\n",
    "        else:\n",
    "            p0 = torch.nn.functional.softmax(output, dim=-1)\n",
    "        return p0\n",
    "\n",
    "    def process(self, x, e):\n",
    "        B, D = x.shape\n",
    "\n",
    "        # Step 1: Sample t from U(0, 1)\n",
    "        t = torch.rand((x.size(0),), device=x.device, dtype=torch.float32)\n",
    "\n",
    "        # Step 2: Calculate Beta\n",
    "        beta = self.beta * (t ** 2)  # (B,)\n",
    "\n",
    "        # Step 3: Sample y from N(beta * (K * one_hot(X))\n",
    "        one_hot_x = F.one_hot(x, num_classes=self.K).float()  # (B, D, K)\n",
    "        mean = beta[:, None, None] * (self.K * one_hot_x - 1)\n",
    "        std = (beta * self.K)[:, None, None].sqrt()\n",
    "        eps = torch.randn_like(mean)\n",
    "        y = mean + std * eps\n",
    "\n",
    "        # Step 4: Compute the Theta\n",
    "        theta = F.softmax(y, dim=-1)\n",
    "\n",
    "        # Step 5: Calculate the output distribution\n",
    "        p_0 = self.discrete_output_distribution(theta, t, e)  # (B, D, K)\n",
    "\n",
    "        e_x = one_hot_x\n",
    "        e_hat = p_0  # (B, D, K)\n",
    "        L_infinity = self.K * self.beta * t[:, None, None] * ((e_x - e_hat) ** 2)\n",
    "        return L_infinity.mean()\n",
    "\n",
    "    @torch.inference_mode()\n",
    "    def sample(self, e, batch_size=128, nb_steps=10, theta=None, apply_mask=None, device='cpu'):\n",
    "        self.eval()\n",
    "\n",
    "        if theta == None:\n",
    "          theta = torch.ones((batch_size, self.D, self.K), device=device) / self.K\n",
    "\n",
    "        for i in range(1, nb_steps+1):\n",
    "            t = (i-1) / nb_steps\n",
    "            t = t * torch.ones((theta.shape[0]), device=theta.device, dtype=theta.dtype)\n",
    "\n",
    "            k_probs = self.discrete_output_distribution(theta, t, e)  # (B, D, K)\n",
    "            k = torch.distributions.Categorical(probs=k_probs).sample()  # (B, D)\n",
    "            alpha = self.beta * (2 * i - 1) / (nb_steps ** 2)\n",
    "\n",
    "            e_k = F.one_hot(k, num_classes=self.K).float()  # (B, D, K)\n",
    "            mean = alpha * (self.K * e_k - 1)\n",
    "            var = (alpha * self.K)\n",
    "            std = torch.full_like(mean, fill_value=var).sqrt()\n",
    "            eps = torch.randn_like(e_k)\n",
    "\n",
    "            y = mean + std * eps  # (B, D, K)\n",
    "\n",
    "            theta_prime = torch.exp(y) * theta\n",
    "            theta_ = theta_prime / theta_prime.sum(-1, keepdim=True)\n",
    "            if apply_mask != None:\n",
    "              theta_[apply_mask] = theta[apply_mask]\n",
    "            theta = theta_\n",
    "\n",
    "        k_probs_final = self.discrete_output_distribution(theta, torch.ones_like(t), e)\n",
    "        if apply_mask != None:\n",
    "            k_probs_final[apply_mask] = theta[apply_mask]\n",
    "        k_final = torch.distributions.Categorical(probs=k_probs_final).sample()\n",
    "\n",
    "        return k_final"
   ]
  },
  {
   "cell_type": "code",
   "execution_count": 97,
   "metadata": {},
   "outputs": [
    {
     "name": "stdout",
     "output_type": "stream",
     "text": [
      "3160064\n",
      "Epoch [1/40], Loss: 0.6445\n",
      "Epoch [2/40], Loss: 0.5694\n",
      "Epoch [3/40], Loss: 0.3714\n",
      "Epoch [4/40], Loss: 0.2149\n",
      "Epoch [5/40], Loss: 0.1337\n",
      "Epoch [6/40], Loss: 0.0982\n",
      "Epoch [7/40], Loss: 0.0768\n",
      "Epoch [8/40], Loss: 0.0760\n",
      "Epoch [9/40], Loss: 0.0563\n",
      "Epoch [10/40], Loss: 0.0484\n",
      "Epoch [11/40], Loss: 0.0594\n",
      "Epoch [12/40], Loss: 0.0446\n",
      "Epoch [13/40], Loss: 0.0471\n",
      "Epoch [14/40], Loss: 0.0479\n",
      "Epoch [15/40], Loss: 0.0443\n",
      "Epoch [16/40], Loss: 0.0251\n",
      "Epoch [17/40], Loss: 0.0304\n",
      "Epoch [18/40], Loss: 0.0322\n",
      "Epoch [19/40], Loss: 0.0420\n",
      "Epoch [20/40], Loss: 0.0336\n",
      "Epoch [21/40], Loss: 0.0536\n",
      "Epoch [22/40], Loss: 0.0322\n",
      "Epoch [23/40], Loss: 0.0365\n",
      "Epoch [24/40], Loss: 0.0321\n",
      "Epoch [25/40], Loss: 0.0344\n",
      "Epoch [26/40], Loss: 0.0381\n",
      "Epoch [27/40], Loss: 0.0451\n",
      "Epoch [28/40], Loss: 0.0262\n",
      "Epoch [29/40], Loss: 0.0382\n",
      "Epoch [30/40], Loss: 0.0287\n",
      "Epoch [31/40], Loss: 0.0317\n",
      "Epoch [32/40], Loss: 0.0374\n",
      "Epoch [33/40], Loss: 0.0323\n",
      "Epoch [34/40], Loss: 0.0306\n",
      "Epoch [35/40], Loss: 0.0405\n",
      "Epoch [36/40], Loss: 0.0295\n",
      "Epoch [37/40], Loss: 0.0417\n",
      "Epoch [38/40], Loss: 0.0359\n",
      "Epoch [39/40], Loss: 0.0305\n",
      "Epoch [40/40], Loss: 0.0292\n"
     ]
    }
   ],
   "source": [
    "ae_model.train(False)\n",
    "ae_model.cpu()\n",
    "\n",
    "NUM_LABELS = 10\n",
    "\n",
    "model = BayesianFlowNetwork(D=NUM_PATCHES, K=CODEBOOK_SIZE, E=NUM_LABELS, hidden_dim=1024)\n",
    "model.to(DEVICE)\n",
    "\n",
    "one_hot_label_lookup = torch.eye(NUM_LABELS)\n",
    "\n",
    "print(count_parameters(model))\n",
    "\n",
    "losses = []\n",
    "\n",
    "optimizer = optim.Adam(model.parameters(), lr=1e-4)\n",
    "epochs = 40\n",
    "\n",
    "\n",
    "\n",
    "for epoch in range(epochs):\n",
    "  for data in trainloader:\n",
    "    model.zero_grad()\n",
    "    with torch.no_grad():\n",
    "      img, labels = data\n",
    "      one_hot_labels = one_hot_label_lookup[labels].to(DEVICE)\n",
    "      _, img_codes, _ = ae_model(img)\n",
    "    \n",
    "    codes = torch.reshape(img_codes.to(DEVICE), (-1, NUM_PATCHES))\n",
    "    loss = model.process(codes, one_hot_labels)\n",
    "    losses.append(loss.item())\n",
    "\n",
    "    loss.backward()\n",
    "    optimizer.step()\n",
    "  print(f\"Epoch [{epoch + 1}/{epochs}], Loss: {loss.item():.4f}\")"
   ]
  },
  {
   "cell_type": "code",
   "execution_count": 98,
   "metadata": {},
   "outputs": [
    {
     "data": {
      "image/png": "[encoded data removed]",
      "text/plain": [
       "<Figure size 432x288 with 1 Axes>"
      ]
     },
     "metadata": {
      "needs_background": "light"
     },
     "output_type": "display_data"
    }
   ],
   "source": [
    "plt.plot(torch.tensor(losses).view(-1, 10).mean(1))\n",
    "plt.title(\"average loss\");"
   ]
  },
  {
   "cell_type": "code",
   "execution_count": 99,
   "metadata": {},
   "outputs": [
    {
     "data": {
      "text/plain": [
       "16"
      ]
     },
     "execution_count": 99,
     "metadata": {},
     "output_type": "execute_result"
    }
   ],
   "source": [
    "model = model.cpu()\n",
    "B = 16\n",
    "l = torch.randint(NUM_LABELS, (B,))\n",
    "e = one_hot_label_lookup[l]\n",
    "outputs = model.sample(e, batch_size=B, nb_steps=100).cpu().numpy()\n",
    "len(outputs)"
   ]
  },
  {
   "cell_type": "code",
   "execution_count": 100,
   "metadata": {},
   "outputs": [
    {
     "data": {
      "image/png": "[encoded data removed]",
      "text/plain": [
       "<Figure size 432x288 with 1 Axes>"
      ]
     },
     "metadata": {
      "needs_background": "light"
     },
     "output_type": "display_data"
    },
    {
     "data": {
      "image/png": "[encoded data removed]",
      "text/plain": [
       "<Figure size 432x288 with 1 Axes>"
      ]
     },
     "metadata": {
      "needs_background": "light"
     },
     "output_type": "display_data"
    },
    {
     "data": {
      "image/png": "[encoded data removed]",
      "text/plain": [
       "<Figure size 432x288 with 1 Axes>"
      ]
     },
     "metadata": {
      "needs_background": "light"
     },
     "output_type": "display_data"
    },
    {
     "data": {
      "image/png": "[encoded data removed]",
      "text/plain": [
       "<Figure size 432x288 with 1 Axes>"
      ]
     },
     "metadata": {
      "needs_background": "light"
     },
     "output_type": "display_data"
    },
    {
     "data": {
      "image/png": "[encoded data removed]",
      "text/plain": [
       "<Figure size 432x288 with 1 Axes>"
      ]
     },
     "metadata": {
      "needs_background": "light"
     },
     "output_type": "display_data"
    },
    {
     "data": {
      "image/png": "[encoded data removed]",
      "text/plain": [
       "<Figure size 432x288 with 1 Axes>"
      ]
     },
     "metadata": {
      "needs_background": "light"
     },
     "output_type": "display_data"
    },
    {
     "data": {
      "image/png": "[encoded data removed]",
      "text/plain": [
       "<Figure size 432x288 with 1 Axes>"
      ]
     },
     "metadata": {
      "needs_background": "light"
     },
     "output_type": "display_data"
    },
    {
     "data": {
      "image/png": "[encoded data removed]",
      "text/plain": [
       "<Figure size 432x288 with 1 Axes>"
      ]
     },
     "metadata": {
      "needs_background": "light"
     },
     "output_type": "display_data"
    },
    {
     "data": {
      "image/png": "[encoded data removed]",
      "text/plain": [
       "<Figure size 432x288 with 1 Axes>"
      ]
     },
     "metadata": {
      "needs_background": "light"
     },
     "output_type": "display_data"
    },
    {
     "data": {
      "image/png": "[encoded data removed]",
      "text/plain": [
       "<Figure size 432x288 with 1 Axes>"
      ]
     },
     "metadata": {
      "needs_background": "light"
     },
     "output_type": "display_data"
    },
    {
     "data": {
      "image/png": "[encoded data removed]",
      "text/plain": [
       "<Figure size 432x288 with 1 Axes>"
      ]
     },
     "metadata": {
      "needs_background": "light"
     },
     "output_type": "display_data"
    },
    {
     "data": {
      "image/png": "[encoded data removed]",
      "text/plain": [
       "<Figure size 432x288 with 1 Axes>"
      ]
     },
     "metadata": {
      "needs_background": "light"
     },
     "output_type": "display_data"
    },
    {
     "data": {
      "image/png": "[encoded data removed]",
      "text/plain": [
       "<Figure size 432x288 with 1 Axes>"
      ]
     },
     "metadata": {
      "needs_background": "light"
     },
     "output_type": "display_data"
    },
    {
     "data": {
      "image/png": "[encoded data removed]",
      "text/plain": [
       "<Figure size 432x288 with 1 Axes>"
      ]
     },
     "metadata": {
      "needs_background": "light"
     },
     "output_type": "display_data"
    },
    {
     "data": {
      "image/png": "[encoded data removed]",
      "text/plain": [
       "<Figure size 432x288 with 1 Axes>"
      ]
     },
     "metadata": {
      "needs_background": "light"
     },
     "output_type": "display_data"
    },
    {
     "data": {
      "image/png": "[encoded data removed]",
      "text/plain": [
       "<Figure size 432x288 with 1 Axes>"
      ]
     },
     "metadata": {
      "needs_background": "light"
     },
     "output_type": "display_data"
    }
   ],
   "source": [
    "for i in range(B):\n",
    "    image = ae_model.quantized_decode(torch.tensor(outputs[i]))\n",
    "    display_image(image.cpu(), f'Label: {l[i]}')"
   ]
  }
 ],
 "metadata": {
  "kernelspec": {
   "display_name": "practical",
   "language": "python",
   "name": "python3"
  },
  "language_info": {
   "codemirror_mode": {
    "name": "ipython",
    "version": 3
   },
   "file_extension": ".py",
   "mimetype": "text/x-python",
   "name": "python",
   "nbconvert_exporter": "python",
   "pygments_lexer": "ipython3",
   "version": "3.10.8"
  },
  "orig_nbformat": 4
 },
 "nbformat": 4,
 "nbformat_minor": 2
}
