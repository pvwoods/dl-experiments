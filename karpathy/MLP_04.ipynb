{
 "cells": [
  {
   "cell_type": "markdown",
   "id": "84c8b58e-d3ef-4c03-b6cc-0db812117861",
   "metadata": {},
   "source": [
    "### Completely Pytorch Native"
   ]
  },
  {
   "cell_type": "code",
   "execution_count": 69,
   "id": "f4013747-d1f2-4e02-b316-ed05bf51cb65",
   "metadata": {},
   "outputs": [],
   "source": [
    "import torch\n",
    "import torch.nn as nn\n",
    "import torch.nn.functional as F\n",
    "import matplotlib.pyplot as plt\n",
    "import random\n",
    "import math\n",
    "from tqdm import tqdm\n",
    "%matplotlib inline"
   ]
  },
  {
   "cell_type": "code",
   "execution_count": 5,
   "id": "134c0a86-8427-4973-9e92-aab295ea2a82",
   "metadata": {},
   "outputs": [
    {
     "data": {
      "text/plain": [
       "['emma', 'olivia', 'ava', 'isabella', 'sophia']"
      ]
     },
     "execution_count": 5,
     "metadata": {},
     "output_type": "execute_result"
    }
   ],
   "source": [
    "words = open('./names.txt').read().splitlines()\n",
    "words[:5]"
   ]
  },
  {
   "cell_type": "code",
   "execution_count": 6,
   "id": "38f79e4d-eedf-43f1-88dc-bc3014b94362",
   "metadata": {},
   "outputs": [],
   "source": [
    "chars = sorted(list(set(''.join(words)))) #lol\n",
    "token_lookup = {c: i+1 for i, c in enumerate(chars)}\n",
    "token_lookup['.'] = 0\n",
    "char_lookup = {i:c for c, i in token_lookup.items()}\n",
    "TOTAL_TOKENS = len(char_lookup.keys())"
   ]
  },
  {
   "cell_type": "code",
   "execution_count": 89,
   "id": "5c9c9f3a-55d5-4be9-82cf-a9bbb08b3663",
   "metadata": {},
   "outputs": [],
   "source": [
    "# build the dataset\n",
    "\n",
    "BLOCK_SIZE = 3 # context size to give the model in order to predict the next character\n",
    "\n",
    "def build_dataset(corpus, block_size, codebook, padding_char=\".\"):\n",
    "    X, Y = [], []\n",
    "    for word in corpus:\n",
    "        start_padding = padding_char * block_size\n",
    "        padded_word = f\"{start_padding}{word}.\"\n",
    "        tokenized_word = [codebook[c] for c in padded_word]\n",
    "        for i in range(len(tokenized_word)-block_size):\n",
    "            X.append(tokenized_word[i:i+block_size])\n",
    "            Y.append(tokenized_word[i+block_size])\n",
    "        \n",
    "    X = torch.tensor(X)\n",
    "    Y = torch.tensor(Y)\n",
    "    return X, Y\n",
    "\n",
    "\n",
    "random.shuffle(words)\n",
    "\n",
    "n1 = int(len(words)*0.8)\n",
    "n2 = int(len(words)*0.9)\n",
    "\n",
    "x_train, y_train = build_dataset(words[:n1], BLOCK_SIZE, token_lookup)\n",
    "x_valid, y_valid = build_dataset(words[n1:n2], BLOCK_SIZE, token_lookup)\n",
    "x_test, y_test = build_dataset(words[n2:], BLOCK_SIZE, token_lookup)"
   ]
  },
  {
   "cell_type": "code",
   "execution_count": 40,
   "id": "af74e5da-da64-4fc1-9f99-e368ec8c25a2",
   "metadata": {},
   "outputs": [],
   "source": [
    "class MLPBlock(nn.Module):\n",
    "    \n",
    "    def __init__(self, in_dims, out_dims):\n",
    "        \n",
    "        super(MLPBlock, self).__init__()\n",
    "        \n",
    "        self.sequence = nn.Sequential(\n",
    "            nn.Linear(in_dims, out_dims, bias=False),\n",
    "            nn.BatchNorm1d(out_dims),\n",
    "            nn.Tanh()\n",
    "        )\n",
    "        \n",
    "    def forward(self, x):\n",
    "        self.out = self.sequence(x)\n",
    "        return self.out\n",
    "\n",
    "class Reshape(nn.Module):\n",
    "    \n",
    "    def __init__(self, target_shape):\n",
    "        super(Reshape, self).__init__()\n",
    "        self.target_shape = target_shape\n",
    "        \n",
    "    def forward(self, x):\n",
    "        return x.view(self.target_shape)\n",
    "\n",
    "class Model(nn.Module):\n",
    "    \n",
    "    def __init__(self, token_size:int, embedding_dims:int, hidden_dims:int, block_size:int):\n",
    "        \n",
    "        super(Model, self).__init__()\n",
    "        \n",
    "        self.sequence = nn.Sequential(\n",
    "            nn.Embedding(token_size, embedding_dims),\n",
    "            Reshape((-1, embedding_dims * block_size)),\n",
    "            MLPBlock(embedding_dims * block_size, hidden_dims),\n",
    "            MLPBlock(hidden_dims, hidden_dims),\n",
    "            MLPBlock(hidden_dims, hidden_dims),\n",
    "            MLPBlock(hidden_dims, hidden_dims),\n",
    "            MLPBlock(hidden_dims, hidden_dims),\n",
    "            nn.Linear(hidden_dims, token_size)\n",
    "        )\n",
    "        \n",
    "    def forward(self, x):\n",
    "        self.out = self.sequence(x)\n",
    "        return self.out"
   ]
  },
  {
   "cell_type": "code",
   "execution_count": 84,
   "id": "5ef68091-35c1-462c-93d8-45a74a945595",
   "metadata": {},
   "outputs": [
    {
     "name": "stderr",
     "output_type": "stream",
     "text": [
      "average loss: 1.96: 100%|████████████████████████████████████████████████████████████████████████████████████████████████████████████████████████████████████████| 25000/25000 [01:25<00:00, 292.13it/s]\n"
     ]
    }
   ],
   "source": [
    "model = Model(embedding_dims=10, token_size=TOTAL_TOKENS, hidden_dims=200, block_size=3)\n",
    "\n",
    "device = 'cuda:1'\n",
    "steps = 25000\n",
    "print_steps = 2000\n",
    "BATCH_SIZE = 256\n",
    "\n",
    "model.to(device)\n",
    "losses = []\n",
    "\n",
    "optim = torch.optim.Adam(model.parameters())\n",
    "scheduler = torch.scheduler.\n",
    "pbar = tqdm(range(steps))\n",
    "\n",
    "for t in pbar:\n",
    "    batch_ix = torch.randint(0, x_train.shape[0], (BATCH_SIZE,))\n",
    "    batch = x_train[batch_ix].to(device)\n",
    "    logits = model(batch)\n",
    "    \n",
    "    loss = F.cross_entropy(logits, y_train[batch_ix].to(device))\n",
    "    losses.append(loss.item())\n",
    "    pbar.set_description(desc=f'average loss: {(sum(losses[-100:])/100):.2f}')\n",
    "\n",
    "    model.zero_grad()\n",
    "    loss.backward()\n",
    "    optim.step()"
   ]
  },
  {
   "cell_type": "code",
   "execution_count": 85,
   "id": "15a8f7bf-2130-4b59-aa18-cacce5fd2285",
   "metadata": {},
   "outputs": [
    {
     "data": {
      "image/png": "[encoded data removed]",
      "text/plain": [
       "<Figure size 432x288 with 1 Axes>"
      ]
     },
     "metadata": {
      "needs_background": "light"
     },
     "output_type": "display_data"
    }
   ],
   "source": [
    "plt.plot(torch.tensor(losses).view(-1, 100).mean(1))\n",
    "plt.title(\"average loss\");"
   ]
  },
  {
   "cell_type": "code",
   "execution_count": 86,
   "id": "632abc11-2ccd-48fc-b2fb-13946cd8b195",
   "metadata": {},
   "outputs": [
    {
     "data": {
      "text/plain": [
       "(tensor(1.9625, device='cuda:1'), tensor(2.0989, device='cuda:1'))"
      ]
     },
     "execution_count": 86,
     "metadata": {},
     "output_type": "execute_result"
    }
   ],
   "source": [
    "model.train(False)\n",
    "\n",
    "# clculate training and validation loss\n",
    "@torch.no_grad()\n",
    "def calc_loss(x_target, y_target):\n",
    "    logits = model(x_target.to(device))\n",
    "    loss = F.cross_entropy(logits, y_target.to(device))\n",
    "    return loss\n",
    "\n",
    "calc_loss(x_train, y_train), calc_loss(x_valid, y_valid)"
   ]
  },
  {
   "cell_type": "code",
   "execution_count": 87,
   "id": "c36a919e-1236-43ca-b0a6-14cc94e5297b",
   "metadata": {},
   "outputs": [
    {
     "name": "stdout",
     "output_type": "stream",
     "text": [
      "shawaa\n",
      "kameel\n",
      "cora\n",
      "doe\n",
      "maidalyn\n",
      "kaymoni\n",
      "reeson\n",
      "livy\n",
      "tashvi\n",
      "sir\n",
      "zyaislia\n",
      "kace\n",
      "aryleah\n",
      "kol\n",
      "mani\n",
      "kata\n",
      "julla\n",
      "dagiana\n",
      "bire\n",
      "oniyla\n"
     ]
    }
   ],
   "source": [
    "# sample\n",
    "@torch.no_grad()\n",
    "def sample():\n",
    "    tokens = [0] * BLOCK_SIZE\n",
    "    while True:\n",
    "        cur_tokens = torch.tensor(tokens[-BLOCK_SIZE:]).to(device)\n",
    "        logits = model(cur_tokens)\n",
    "        probs = F.softmax(logits, dim=1)\n",
    "        ix = torch.multinomial(probs, num_samples=1).item()\n",
    "        tokens.append(ix)\n",
    "        if ix == 0:\n",
    "            break\n",
    "    return \"\".join([char_lookup[t] for t in tokens][BLOCK_SIZE:-1])\n",
    "\n",
    "for i in range(20):\n",
    "    print(sample())"
   ]
  }
 ],
 "metadata": {
  "kernelspec": {
   "display_name": "Python 3 (ipykernel)",
   "language": "python",
   "name": "python3"
  },
  "language_info": {
   "codemirror_mode": {
    "name": "ipython",
    "version": 3
   },
   "file_extension": ".py",
   "mimetype": "text/x-python",
   "name": "python",
   "nbconvert_exporter": "python",
   "pygments_lexer": "ipython3",
   "version": "3.10.6"
  }
 },
 "nbformat": 4,
 "nbformat_minor": 5
}
