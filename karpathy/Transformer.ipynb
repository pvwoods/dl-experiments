{
 "cells": [
  {
   "cell_type": "code",
   "execution_count": 1,
   "id": "4e74cf4e-ed9c-4321-8074-60403953d4e7",
   "metadata": {},
   "outputs": [],
   "source": [
    "import torch\n",
    "import torch.nn as nn\n",
    "import matplotlib.pyplot as plt\n",
    "import math\n",
    "from torch.autograd import Variable\n",
    "import random\n",
    "from tqdm import tqdm\n",
    "import torch.nn.functional as F"
   ]
  },
  {
   "cell_type": "code",
   "execution_count": 145,
   "id": "371a08fd-0051-4fdf-ba50-d185419a3f77",
   "metadata": {},
   "outputs": [],
   "source": [
    "class MultiHeadedAttention(nn.Module):\n",
    "    \n",
    "    def __init__(self, dims:int, heads:int, block_size:int, dropout:float=0.1):\n",
    "        \n",
    "        super(MultiHeadedAttention, self).__init__()\n",
    "        \n",
    "        # number of dims must be evenly divisible by num heads\n",
    "        assert dims % heads == 0\n",
    "        \n",
    "        self.dims = dims\n",
    "        self.heads = heads\n",
    "        self.block_size = block_size\n",
    "        self.head_dims = dims // heads\n",
    "        self.dk_sqrt = math.sqrt(self.head_dims)\n",
    "        \n",
    "        self.register_buffer('mask', torch.tril(torch.ones(self.block_size, self.block_size)) \\\n",
    "                             .view(1,1,self.block_size, self.block_size))\n",
    "        \n",
    "        self.qkv_projection = nn.Linear(self.dims,self.dims * 3)\n",
    "        self.attn_dropout = nn.Dropout(dropout)\n",
    "        self.out_projection = nn.Linear(self.dims,self.dims)\n",
    "        self.resid_dropout = nn.Dropout(dropout)\n",
    "        \n",
    "    def calculate_attention(self, q, k, v, T):\n",
    "        \n",
    "        # get similarity of key and query via dot product\n",
    "        qk_similarity = q @ k.transpose(-2, -1)\n",
    "        # normalize values by head dims\n",
    "        normalized_qk_similarity = qk_similarity / self.dk_sqrt\n",
    "        attention = normalized_qk_similarity.masked_fill(self.mask[:,:,:T,:T] == 0, float('-inf'))\n",
    "        attention = torch.softmax(attention, dim=-1)\n",
    "        attention = self.attn_dropout(attention)\n",
    "        out = attention @ v\n",
    "        \n",
    "        return out, attention\n",
    "    \n",
    "    def forward(self, x):\n",
    "        \n",
    "        B, T, C = x.shape # batch size, num tokens, token embedding size\n",
    "        \n",
    "        # linear projection for q, k, v\n",
    "        qkv = self.qkv_projection(x).split(self.dims, dim=2)\n",
    "        \n",
    "        # reshape to (batch, heads, tokens, head_dims)\n",
    "        q, k, v = [cv.view((B, -1, self.heads, self.head_dims)).transpose(1, 2) for cv in qkv]\n",
    "        \n",
    "        # calculatue and apply attention\n",
    "        y, attention = self.calculate_attention(q, k, v, T)\n",
    "        \n",
    "        # concat all heads\n",
    "        y = y.transpose(1, 2).contiguous().view(B, T, C)\n",
    "        \n",
    "        # outward projection and residual dropout\n",
    "        y = self.resid_dropout(self.out_projection(y))\n",
    "        \n",
    "        return y"
   ]
  },
  {
   "cell_type": "code",
   "execution_count": 146,
   "id": "f03c7d91-af36-4bd4-9d7e-9ce633f510fc",
   "metadata": {},
   "outputs": [
    {
     "data": {
      "text/plain": [
       "torch.Size([3, 12, 100])"
      ]
     },
     "execution_count": 146,
     "metadata": {},
     "output_type": "execute_result"
    }
   ],
   "source": [
    "model = MultiHeadedAttention(100, 20, 100)\n",
    "x = torch.randn(3, 12, 100)\n",
    "model(model(x)).shape"
   ]
  },
  {
   "cell_type": "code",
   "execution_count": 4,
   "id": "e8e6bd50-fa53-4c31-a2e6-ec0a3aa265a8",
   "metadata": {},
   "outputs": [],
   "source": [
    "class PositionalEncoder(nn.Module):\n",
    "    \n",
    "    def __init__(self, embedding_dims:int, block_size:int):\n",
    "        \n",
    "        super(PositionalEncoder, self).__init__()\n",
    "        \n",
    "        self.embedding_dims = embedding_dims\n",
    "        self.block_size = block_size\n",
    "        \n",
    "        positional_embedding = torch.zeros(block_size, embedding_dims)\n",
    "        div_pos = torch.arange(0, self.embedding_dims, 2)\n",
    "        divisors = torch.exp(div_pos * -(math.log(10000.0) / self.embedding_dims))\n",
    "        positions = torch.arange(block_size)[:,None,...]\n",
    "        \n",
    "        positional_embedding[:, 0::2] = torch.sin(positions * divisors)\n",
    "        positional_embedding[:, 1::2] = torch.cos(positions * divisors)\n",
    "        positional_embedding = positional_embedding[None,...]\n",
    "        \n",
    "        self.register_buffer('positional_embedding', positional_embedding)\n",
    "        \n",
    "        \n",
    "        \n",
    "    def forward(self, x):\n",
    "        out = Variable(x + self.positional_embedding[:, :x.shape[1]], requires_grad=False)\n",
    "        return out"
   ]
  },
  {
   "cell_type": "code",
   "execution_count": 5,
   "id": "e92f8732-33d6-46d8-bcc7-63d6a66a06a2",
   "metadata": {},
   "outputs": [
    {
     "data": {
      "text/plain": [
       "torch.Size([5, 10, 10])"
      ]
     },
     "execution_count": 5,
     "metadata": {},
     "output_type": "execute_result"
    }
   ],
   "source": [
    "class PositionWiseFFN(nn.Module):\n",
    "    \n",
    "    def __init__(self, in_dims:int, hidden_dims:int, dropout:float=0.1):\n",
    "        \n",
    "        super(PositionWiseFFN, self).__init__()\n",
    "        \n",
    "        self.sequence = nn.Sequential(\n",
    "            nn.Linear(in_dims, hidden_dims),\n",
    "            nn.ReLU(),\n",
    "            nn.Linear(hidden_dims, in_dims),\n",
    "            nn.Dropout(dropout)\n",
    "        )\n",
    "        \n",
    "    def forward(self, x):\n",
    "        return self.sequence(x)\n",
    "    \n",
    "pwffn = PositionWiseFFN(10, 100)\n",
    "pwffn(torch.randn(5,10,10)).shape"
   ]
  },
  {
   "cell_type": "code",
   "execution_count": 6,
   "id": "a6576369-b47f-4fda-b910-547ca69b483e",
   "metadata": {},
   "outputs": [
    {
     "data": {
      "text/plain": [
       "torch.Size([3, 12, 64])"
      ]
     },
     "execution_count": 6,
     "metadata": {},
     "output_type": "execute_result"
    }
   ],
   "source": [
    "class TransformerBlock(nn.Module):\n",
    "    \n",
    "    def __init__(self, \n",
    "                 att_heads:int = 8, \n",
    "                 att_dims:int = 64,\n",
    "                 block_size:int = 64\n",
    "                ):\n",
    "        \n",
    "        super(TransformerBlock, self).__init__()\n",
    "        \n",
    "        self.att_heads = att_heads\n",
    "        self.att_dims = att_dims\n",
    "        self.block_size = block_size\n",
    "        \n",
    "        self.ln_1 = nn.LayerNorm(self.att_dims)\n",
    "        self.attention = MultiHeadedAttention(self.att_dims, self.att_heads, self.block_size)\n",
    "        self.ln_2 = nn.LayerNorm(self.att_dims)\n",
    "        self.feed_forward = PositionWiseFFN(self.att_dims, 4 * self.att_dims)\n",
    "        \n",
    "    def forward(self, x):\n",
    "        \n",
    "        x = x + self.attention(self.ln_1(x))\n",
    "        x = x + self.feed_forward(self.ln_2(x))\n",
    "        \n",
    "        return x\n",
    "        \n",
    "tb = TransformerBlock()\n",
    "x = torch.randn((3,12,64))\n",
    "tb(x).shape"
   ]
  },
  {
   "cell_type": "code",
   "execution_count": 123,
   "id": "5495c2e9-f709-4e37-86cc-10dc18d51dd4",
   "metadata": {},
   "outputs": [
    {
     "data": {
      "text/plain": [
       "torch.Size([4, 64, 32])"
      ]
     },
     "execution_count": 123,
     "metadata": {},
     "output_type": "execute_result"
    }
   ],
   "source": [
    "class DecoderTransformer(nn.Module):\n",
    "    \n",
    "    def __init__(self, \n",
    "                 vocab_size:int = 32,\n",
    "                 block_size:int = 64,\n",
    "                 embedding_dims:int = 64,\n",
    "                 att_heads:int = 8,\n",
    "                 layers:int = 3,\n",
    "                 dropout:float = 0.1\n",
    "                ):\n",
    "        \n",
    "        super(DecoderTransformer, self).__init__()\n",
    "        \n",
    "        self.vocab_size = vocab_size\n",
    "        self.block_size = block_size\n",
    "        self.embedding_dims = embedding_dims\n",
    "        self.att_heads = att_heads\n",
    "        \n",
    "        self.sequence = nn.Sequential(\n",
    "            nn.Embedding(self.vocab_size, self.embedding_dims),\n",
    "            PositionalEncoder(self.embedding_dims, self.block_size), # maybe just change this to an embedding too\n",
    "            nn.Dropout(dropout),\n",
    "            nn.Sequential(*[TransformerBlock(self.att_heads, self.embedding_dims, self.block_size) for _ in range(layers)]),\n",
    "            nn.LayerNorm(self.embedding_dims)\n",
    "        )\n",
    "        \n",
    "        self.lm_head = nn.Linear(self.embedding_dims, self.vocab_size)\n",
    "        \n",
    "    def forward(self, x):\n",
    "        x = self.sequence(x)\n",
    "        return self.lm_head(x)\n",
    "\n",
    "model = DecoderTransformer()\n",
    "x = torch.randint(31, (4,64))\n",
    "model(x).shape"
   ]
  },
  {
   "cell_type": "code",
   "execution_count": 8,
   "id": "9b202b80-2643-4dec-8ea5-d851ba179aa9",
   "metadata": {},
   "outputs": [
    {
     "data": {
      "text/plain": [
       "['emma', 'olivia', 'ava', 'isabella', 'sophia']"
      ]
     },
     "execution_count": 8,
     "metadata": {},
     "output_type": "execute_result"
    }
   ],
   "source": [
    "words = open('./names.txt').read().splitlines()\n",
    "words[:5]"
   ]
  },
  {
   "cell_type": "code",
   "execution_count": 67,
   "id": "2870af15-9e49-45d9-b4e2-d1f2b9808a60",
   "metadata": {},
   "outputs": [
    {
     "name": "stdout",
     "output_type": "stream",
     "text": [
      "{'a': 1, 'b': 2, 'c': 3, 'd': 4, 'e': 5, 'f': 6, 'g': 7, 'h': 8, 'i': 9, 'j': 10, 'k': 11, 'l': 12, 'm': 13, 'n': 14, 'o': 15, 'p': 16, 'q': 17, 'r': 18, 's': 19, 't': 20, 'u': 21, 'v': 22, 'w': 23, 'x': 24, 'y': 25, 'z': 26, '#': 0, '$': 27} 28\n"
     ]
    }
   ],
   "source": [
    "chars = sorted(list(set(''.join(words)))) #lol\n",
    "token_lookup = {c: i+1 for i, c in enumerate(chars)}\n",
    "token_lookup['#'] = 0\n",
    "token_lookup['$'] = len(chars) + 1\n",
    "char_lookup = {i:c for c, i in token_lookup.items()}\n",
    "TOTAL_TOKENS = len(char_lookup.keys())\n",
    "print(token_lookup, TOTAL_TOKENS)"
   ]
  },
  {
   "cell_type": "code",
   "execution_count": 73,
   "id": "a43434ea-0470-4f69-bad6-0b29f23fb3dd",
   "metadata": {},
   "outputs": [
    {
     "name": "stdout",
     "output_type": "stream",
     "text": [
      "Block size set to 17\n",
      "torch.Size([25626, 16]) torch.Size([25626, 16])\n",
      "torch.Size([3203, 16]) torch.Size([3203, 16])\n",
      "torch.Size([3204, 16]) torch.Size([3204, 16])\n"
     ]
    }
   ],
   "source": [
    "# build the dataset\n",
    "\n",
    "BLOCK_SIZE = max([len(w) for w in words]) + 2 # context size to give the model in order to predict the next character\n",
    "print(f'Block size set to {BLOCK_SIZE}')\n",
    "\n",
    "def build_dataset(corpus, block_size, codebook, start_padding_char=\"#\", end_padding_char=\"$\"):\n",
    "    X, Y = [], []\n",
    "    for word in corpus:\n",
    "        word_len = len(word)\n",
    "        end_padding_amount = block_size - (word_len + 1)\n",
    "        end_padding = end_padding_char * end_padding_amount\n",
    "        padded_word = f\"{start_padding_char}{word}{end_padding}\"\n",
    "        tokenized_word = [codebook[c] for c in padded_word]\n",
    "        X.append(tokenized_word[:block_size-1])\n",
    "        Y.append(tokenized_word[1:])\n",
    "        \n",
    "    X = torch.tensor(X)\n",
    "    Y = torch.tensor(Y)\n",
    "    \n",
    "    print(X.shape, Y.shape)\n",
    "    \n",
    "    return X, Y\n",
    "\n",
    "\n",
    "random.shuffle(words)\n",
    "\n",
    "n1 = int(len(words)*0.8)\n",
    "n2 = int(len(words)*0.9)\n",
    "\n",
    "x_train, y_train = build_dataset(words[:n1], BLOCK_SIZE, token_lookup)\n",
    "x_valid, y_valid = build_dataset(words[n1:n2], BLOCK_SIZE, token_lookup)\n",
    "x_test, y_test = build_dataset(words[n2:], BLOCK_SIZE, token_lookup)"
   ]
  },
  {
   "cell_type": "code",
   "execution_count": 205,
   "id": "d90bb7a4-5811-4e7d-92bd-3a2bbe94f5f4",
   "metadata": {},
   "outputs": [
    {
     "name": "stdout",
     "output_type": "stream",
     "text": [
      "4753436\n"
     ]
    },
    {
     "name": "stderr",
     "output_type": "stream",
     "text": [
      "average loss: 0.66: 100%|████████████████████████████████████████████████████████████████████████████████████████████████████████████████████████████████████████████████████| 15000/15000 [05:11<00:00, 48.13it/s]\n"
     ]
    }
   ],
   "source": [
    "model = DecoderTransformer(vocab_size=TOTAL_TOKENS, embedding_dims=256, layers=6)\n",
    "print(sum(p.numel() for p in model.parameters()))\n",
    "\n",
    "device = 'cuda:1'\n",
    "steps = 15000\n",
    "print_steps = 2000\n",
    "BATCH_SIZE = 256\n",
    "\n",
    "losses = []\n",
    "\n",
    "optim = torch.optim.Adam(model.parameters())\n",
    "pbar = tqdm(range(steps))\n",
    "\n",
    "model.to(device)\n",
    "\n",
    "for t in pbar:\n",
    "    batch_ix = torch.randint(0, x_train.shape[0], (BATCH_SIZE,))\n",
    "    batch = x_train[batch_ix].to(device)\n",
    "    logits = model(batch)\n",
    "    y = y_train[batch_ix].view(-1)\n",
    "    \n",
    "    loss = F.cross_entropy(logits.view(-1, logits.shape[-1]), y.to(device))\n",
    "    losses.append(loss.item())\n",
    "    pbar.set_description(desc=f'average loss: {(sum(losses[-100:])/100):.2f}')\n",
    "\n",
    "    model.zero_grad()\n",
    "    loss.backward()\n",
    "    optim.step()"
   ]
  },
  {
   "cell_type": "code",
   "execution_count": 206,
   "id": "941a75b2-4db7-43b4-95a0-9e9ea6692cf1",
   "metadata": {},
   "outputs": [
    {
     "data": {
      "image/png": "[encoded data removed]",
      "text/plain": [
       "<Figure size 432x288 with 1 Axes>"
      ]
     },
     "metadata": {
      "needs_background": "light"
     },
     "output_type": "display_data"
    }
   ],
   "source": [
    "plt.plot(torch.tensor(losses).view(-1, 100).mean(1))\n",
    "plt.title(\"average loss\");"
   ]
  },
  {
   "cell_type": "code",
   "execution_count": null,
   "id": "a3db0f84-3089-4a26-8aef-9b465211ff88",
   "metadata": {},
   "outputs": [
    {
     "data": {
      "text/plain": [
       "(('train', 0.6494318246841431), ('val', 1.032719612121582))"
      ]
     },
     "execution_count": 207,
     "metadata": {},
     "output_type": "execute_result"
    }
   ],
   "source": [
    "model.to('cpu')\n",
    "model.train(False)\n",
    "\n",
    "# clculate training and validation loss\n",
    "@torch.no_grad()\n",
    "def calc_loss(x_target, y_target):\n",
    "    logits = model(x_target)\n",
    "    loss = F.cross_entropy(logits.view(-1, logits.shape[-1]),  y_target.view(-1))\n",
    "    return loss\n",
    "\n",
    "('train', calc_loss(x_train, y_train).item()), ('val', calc_loss(x_valid, y_valid).item())"
   ]
  },
  {
   "cell_type": "code",
   "execution_count": 228,
   "id": "1801a71a-53ff-4acf-823a-ffde1468015b",
   "metadata": {},
   "outputs": [
    {
     "name": "stdout",
     "output_type": "stream",
     "text": [
      "trinityrose\n",
      "moriya\n",
      "zyana\n",
      "brayden\n",
      "rhone\n",
      "avory\n",
      "lacon\n",
      "kileigh\n",
      "juancarlo\n",
      "haye\n",
      "ellice\n",
      "joelee\n",
      "attie\n",
      "whalin\n",
      "lucille\n",
      "omya\n",
      "layce\n",
      "mostafa\n",
      "emilina\n",
      "brysin\n"
     ]
    },
    {
     "data": {
      "text/plain": [
       "<matplotlib.image.AxesImage at 0x7f1bb9926e30>"
      ]
     },
     "execution_count": 228,
     "metadata": {},
     "output_type": "execute_result"
    },
    {
     "data": {
      "image/png": "[encoded data removed]",
      "text/plain": [
       "<Figure size 720x2160 with 1 Axes>"
      ]
     },
     "metadata": {
      "needs_background": "light"
     },
     "output_type": "display_data"
    }
   ],
   "source": [
    "# sample\n",
    "prob_map = []\n",
    "@torch.no_grad()\n",
    "def sample():\n",
    "    tokens = [0] * BLOCK_SIZE\n",
    "    pos = 0\n",
    "    while True:\n",
    "        cur_tokens = torch.tensor(tokens).unsqueeze(0)\n",
    "        logits = model(cur_tokens).squeeze(0)\n",
    "        probs = torch.softmax(logits[pos], dim=0)\n",
    "        prob_map.append(probs.detach().numpy())\n",
    "        ix = torch.multinomial(probs, num_samples=1).item()\n",
    "        tokens[pos + 1] = ix\n",
    "        pos += 1\n",
    "        if ix == 27 or pos == BLOCK_SIZE - 1:\n",
    "            break\n",
    "    decoded = \"\".join([char_lookup[t] for t in tokens])\n",
    "    return decoded.replace(\"#\", \"\").replace(\"$\", \"\")\n",
    "\n",
    "for i in range(20):\n",
    "    print(sample())\n",
    "    prob_map.append([0.3] * len(prob_map[-1]))\n",
    "    \n",
    "plt.figure(figsize=(10,30))\n",
    "plt.imshow(prob_map)"
   ]
  },
  {
   "cell_type": "code",
   "execution_count": 203,
   "id": "5779e142-4d01-42d4-a87a-8028675033b9",
   "metadata": {},
   "outputs": [
    {
     "name": "stdout",
     "output_type": "stream",
     "text": [
      "phimet\n",
      "phijiha\n",
      "phidence\n",
      "phia\n",
      "phia\n",
      "phit\n",
      "phia\n",
      "phiken\n",
      "phin\n",
      "phia\n",
      "phiba\n",
      "phimet\n",
      "phidenton\n",
      "phiyton\n",
      "phien\n",
      "phiwill\n",
      "phimobi\n",
      "phirish\n",
      "phimeba\n",
      "phia\n"
     ]
    }
   ],
   "source": [
    "# sample\n",
    "@torch.no_grad()\n",
    "def p_sample(p, temp=0.7, top_k=3):\n",
    "    tokens = [token_lookup[t] for t in p]\n",
    "    tokens = tokens + [0] * (BLOCK_SIZE - len(tokens))\n",
    "    pos = len(p)\n",
    "    while True:\n",
    "        cur_tokens = torch.tensor(tokens).unsqueeze(0)\n",
    "        logits = model(cur_tokens)\n",
    "        logits = logits[:, pos, :] / temp\n",
    "        top_k_vals, _ = torch.topk(logits, top_k)\n",
    "        # set any value less than the K'th value to -inf\n",
    "        kth_vals = top_k_vals[:, [-1]]\n",
    "        logits[logits < kth_vals] = float('-inf')\n",
    "        probs = torch.softmax(logits, dim=-1)\n",
    "        prob_map.append(probs.detach().numpy())\n",
    "        ix = torch.multinomial(probs, num_samples=1).item()\n",
    "        tokens[pos + 1] = ix\n",
    "        pos += 1\n",
    "        if ix == 27 or pos == BLOCK_SIZE - 1:\n",
    "            break\n",
    "    decoded = \"\".join([char_lookup[t] for t in tokens])\n",
    "    return decoded.replace(\"#\", \"\").replace(\"$\", \"\")\n",
    "\n",
    "for i in range(20):\n",
    "    print(p_sample(\"#\", 0.7))"
   ]
  }
 ],
 "metadata": {
  "kernelspec": {
   "display_name": "Python 3 (ipykernel)",
   "language": "python",
   "name": "python3"
  },
  "language_info": {
   "codemirror_mode": {
    "name": "ipython",
    "version": 3
   },
   "file_extension": ".py",
   "mimetype": "text/x-python",
   "name": "python",
   "nbconvert_exporter": "python",
   "pygments_lexer": "ipython3",
   "version": "3.10.6"
  }
 },
 "nbformat": 4,
 "nbformat_minor": 5
}
