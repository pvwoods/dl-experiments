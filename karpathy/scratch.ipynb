{
 "cells": [
  {
   "cell_type": "code",
   "execution_count": 86,
   "id": "ca396f89-1d5c-4cec-92cf-8e0052787adb",
   "metadata": {},
   "outputs": [],
   "source": [
    "import torch\n",
    "import torch.nn as nn\n",
    "import random\n",
    "from tqdm import tqdm"
   ]
  },
  {
   "cell_type": "code",
   "execution_count": 5,
   "id": "050921f0-c6ce-4f13-8c2e-1d6f621c10fb",
   "metadata": {},
   "outputs": [],
   "source": [
    "class FeedForwardMLP(nn.Module):\n",
    "    \n",
    "    def __init__(self, \n",
    "                 in_dims:int, \n",
    "                 hidden_dims:int, \n",
    "                 dropout:float=0.1\n",
    "                ):\n",
    "        \n",
    "        super(FeedForwardMLP, self).__init__()\n",
    "        \n",
    "        self.in_dims = in_dims\n",
    "        self.hidden_dims = hidden_dims\n",
    "        \n",
    "        self.sequence = nn.Sequential(\n",
    "            nn.Linear(self.in_dims, self.hidden_dims),\n",
    "            nn.ReLU(),\n",
    "            nn.Linear(self.hidden_dims, self.in_dims),\n",
    "            nn.Dropout(dropout)\n",
    "        )\n",
    "        \n",
    "    def forward(self, x):\n",
    "        return self.sequence(x)\n",
    "        "
   ]
  },
  {
   "cell_type": "code",
   "execution_count": 6,
   "id": "29ec82da-29d1-4868-8726-c318b9550a87",
   "metadata": {},
   "outputs": [
    {
     "data": {
      "text/plain": [
       "torch.Size([3, 10, 25])"
      ]
     },
     "execution_count": 6,
     "metadata": {},
     "output_type": "execute_result"
    }
   ],
   "source": [
    "x = torch.randn(3,10,25)\n",
    "m = FeedForwardMLP(25, 200)\n",
    "m(x).shape"
   ]
  },
  {
   "cell_type": "code",
   "execution_count": 63,
   "id": "c1b8a112-25e6-45f1-9b2a-38a8f33d39d6",
   "metadata": {},
   "outputs": [
    {
     "data": {
      "text/plain": [
       "torch.Size([3, 10, 256])"
      ]
     },
     "execution_count": 63,
     "metadata": {},
     "output_type": "execute_result"
    }
   ],
   "source": [
    "import math\n",
    "\n",
    "class CausalSelfAttention(nn.Module):\n",
    "    \n",
    "    def __init__(self,\n",
    "                 embedding_dims:int,\n",
    "                 heads:int,\n",
    "                 block_size:int,\n",
    "                 dropout:float=0.1\n",
    "                ):\n",
    "        \n",
    "        '''\n",
    "        Performs multi-headed, causal self attention over input embeddings. Assumes input\n",
    "        tensor of shape batch, tokens, embeddings (B, T, E) and returns a tensor of the\n",
    "        same shape.\n",
    "        \n",
    "        ...\n",
    "        \n",
    "        \n",
    "        Arguments\n",
    "        ---------\n",
    "        \n",
    "        embedding_dims : int\n",
    "            size of the embedding dimension\n",
    "        heads : int\n",
    "            number of heads in the attention block\n",
    "        block_size : int\n",
    "            maximum size of an input (T dimension)\n",
    "        dropout : float\n",
    "            amount of dropout to apply after attention. 0->1\n",
    "        \n",
    "        TODO's\n",
    "        ------\n",
    "        * not config driven\n",
    "        * dropout always assumed to exist\n",
    "        '''\n",
    "        \n",
    "        super(CausalSelfAttention, self).__init__()\n",
    "        \n",
    "        assert embedding_dims % heads == 0 # we can't have leftover embedding dims after splitting into heads\n",
    "        \n",
    "        self.heads = heads\n",
    "        self.embedding_dims = embedding_dims\n",
    "        self.block_size = block_size\n",
    "        self.head_dims = self.embedding_dims // self.heads # head dims, D\n",
    "        self.dk_sqrt = math.sqrt(self.head_dims) # normalization term for attention\n",
    "        \n",
    "        # (3 * E) since we need (q,k,v) each of size E\n",
    "        self.qkv_projection = nn.Linear(embedding_dims, 3 * embedding_dims)\n",
    "        self.attn_dropout = nn.Dropout(dropout)\n",
    "        self.out_projection = nn.Linear(embedding_dims, embedding_dims)\n",
    "        self.residual_dropout = nn.Dropout(dropout)\n",
    "        \n",
    "        # mask to apply to ensure we only look leftward when applying attention\n",
    "        mask = torch.tril(torch.ones(self.block_size, self.block_size))[None,None,...]\n",
    "        self.register_buffer('mask', mask)\n",
    "        \n",
    "    def calculate_attention(self, q, k, v):\n",
    "        '''\n",
    "        calculates Scaled Dot-Product Attention:\n",
    "            \n",
    "            Attention(Q, K, V) = softmax(QKᵀ/√dₖ)V\n",
    "        \n",
    "        ...\n",
    "        \n",
    "        \n",
    "        Arguments\n",
    "        ---------\n",
    "        \n",
    "        q : Tensor\n",
    "            query tensor\n",
    "        k : Tensor\n",
    "            key tensor\n",
    "        v : Tensor\n",
    "            value tensor\n",
    "        '''\n",
    "        \n",
    "        B, H, T, D = q.shape # Batch, Head, Token, Head Dims (assumes q,k,v all same shape)\n",
    "        \n",
    "        # calculate dot product similarity between queries and keys (B, H, T, D) @ (B, H, D, T) = (B, H, T, T)\n",
    "        qk_similarity = q @ k.transpose(-2, -1) / self.dk_sqrt\n",
    "        \n",
    "        # mask tokens to the left of the current position\n",
    "        masked_similarity = qk_similarity.masked_fill(self.mask[:,:,:T,:T] == 0, float('-inf'))\n",
    "        \n",
    "        # softmax on last dimension\n",
    "        attention = torch.softmax(masked_similarity, dim=-1)\n",
    "        \n",
    "        # apply dropout\n",
    "        attention = self.attn_dropout(attention)\n",
    "        \n",
    "        # apply attention to values (B, H, T, T) @ (B, H, T, D) = (B, H, T, D)\n",
    "        out = attention @ v\n",
    "            \n",
    "        return out\n",
    "        \n",
    "    def forward(self, x):\n",
    "        \n",
    "        B, T, E = x.shape # Batch size, Tokens, Embedding Dims (B, T, E)\n",
    "        \n",
    "        # forward projection and split into q, k, v\n",
    "        qkv = self.qkv_projection(x).split(self.embedding_dims, dim=-1)\n",
    "        \n",
    "        # reshape to (B, T, H, D), then swap T and H dims so it's ordered by head, not token (B, H, T, D)\n",
    "        q, k, v = [c.view(B, T, self.heads, self.head_dims).transpose(1, 2) for c in qkv]\n",
    "        \n",
    "        # calculate attention\n",
    "        attention = self.calculate_attention(q, k, v)\n",
    "        \n",
    "        # swap back H and T to get (B, T, H, D), then concat all heads\n",
    "        attention = attention.transpose(1, 2).contiguous().view(B, T, E)\n",
    "        \n",
    "        # feed through outward projection\n",
    "        out = self.out_projection(attention)\n",
    "        \n",
    "        # return with residual dropout\n",
    "        return self.residual_dropout(out)\n",
    "\n",
    "    \n",
    "att = CausalSelfAttention(256, 8, 12)\n",
    "x = torch.randn(3, 10, 256)\n",
    "att(x).shape"
   ]
  },
  {
   "cell_type": "code",
   "execution_count": 64,
   "id": "a1513f89-b176-417c-856b-f620cd9b410a",
   "metadata": {},
   "outputs": [
    {
     "data": {
      "text/plain": [
       "torch.Size([3, 10, 256])"
      ]
     },
     "execution_count": 64,
     "metadata": {},
     "output_type": "execute_result"
    }
   ],
   "source": [
    "class TransformerBlock(nn.Module):\n",
    "    \n",
    "    def __init__(self, embedding_dims:int, heads:int, block_size:int, ff_dims:int, dropout:float =  0.1):\n",
    "        \n",
    "        '''\n",
    "        Basic transformer block.  Applies attention followed by feed forward with residual connections.\n",
    "        \n",
    "        ...\n",
    "        \n",
    "        Arguments\n",
    "        ---------\n",
    "        \n",
    "        embedding_dims : int\n",
    "            size of the embedding dimension\n",
    "        heads : int\n",
    "            number of heads in the attention block\n",
    "        block_size : int\n",
    "            maximum size of an input (T dimension)\n",
    "        ff_dims : int\n",
    "            number of hidden states for the feed forward layers\n",
    "        dropout : float\n",
    "            amount of dropout to apply after attention. 0->1\n",
    "        \n",
    "        TODO's\n",
    "        ------\n",
    "        * not config driven\n",
    "        * dropout always assumed to exist\n",
    "        '''\n",
    "        \n",
    "        super(TransformerBlock, self).__init__()\n",
    "        \n",
    "        self.embedding_dims = embedding_dims\n",
    "        self.heads = heads\n",
    "        self.block_size = block_size\n",
    "        self.ff_dims = ff_dims\n",
    "        self.dropout = dropout\n",
    "        \n",
    "        self.attention_block = CausalSelfAttention(self.embedding_dims, self.heads, self.block_size, self.dropout)\n",
    "        self.attention_norm = nn.LayerNorm(self.embedding_dims)\n",
    "        self.feed_forward = FeedForwardMLP(self.embedding_dims, self.ff_dims)\n",
    "        self.feed_forward_norm = nn.LayerNorm(self.embedding_dims)\n",
    "        \n",
    "    def forward(self, x):\n",
    "        x = x + self.attention_block(self.attention_norm(x))\n",
    "        x = x + self.feed_forward(self.feed_forward_norm(x))\n",
    "        return x\n",
    "    \n",
    "tb = TransformerBlock(256, 8, 64, 1024)\n",
    "x = torch.randn(3, 10, 256)\n",
    "tb(x).shape"
   ]
  },
  {
   "cell_type": "code",
   "execution_count": 88,
   "id": "c8473c81-55ba-4922-8d95-2b4bd9b81639",
   "metadata": {},
   "outputs": [
    {
     "data": {
      "text/plain": [
       "tensor([[[-0.1534,  0.3322, -0.0755,  1.4114, -0.3405],\n",
       "         [-0.8822,  0.9989, -2.0616, -1.2288, -1.3333],\n",
       "         [ 1.4288,  0.6870,  0.7173,  0.5712, -0.4433],\n",
       "         [-0.1188,  0.9762,  1.4979, -0.1930,  1.6136],\n",
       "         [-0.4460,  0.3376,  0.3791, -0.4095,  0.2099],\n",
       "         [-0.0689,  2.3032, -2.0311, -0.9460, -1.9515],\n",
       "         [-0.8834,  0.2956,  0.0699, -0.1745,  0.5956],\n",
       "         [ 0.4196,  0.1325, -1.4552,  0.5631,  1.2488],\n",
       "         [-1.1302,  0.9346,  0.6068,  0.4731, -1.2558],\n",
       "         [-0.5613,  0.8914,  0.9575, -0.2208,  1.2251]],\n",
       "\n",
       "        [[-0.1534,  0.3322, -0.0755,  1.4114, -0.3405],\n",
       "         [-0.8822,  0.9989, -2.0616, -1.2288, -1.3333],\n",
       "         [ 1.4288,  0.6870,  0.7173,  0.5712, -0.4433],\n",
       "         [-0.1188,  0.9762,  1.4979, -0.1930,  1.6136],\n",
       "         [-0.4460,  0.3376,  0.3791, -0.4095,  0.2099],\n",
       "         [-0.0689,  2.3032, -2.0311, -0.9460, -1.9515],\n",
       "         [-0.8834,  0.2956,  0.0699, -0.1745,  0.5956],\n",
       "         [ 0.4196,  0.1325, -1.4552,  0.5631,  1.2488],\n",
       "         [-1.1302,  0.9346,  0.6068,  0.4731, -1.2558],\n",
       "         [-0.5613,  0.8914,  0.9575, -0.2208,  1.2251]],\n",
       "\n",
       "        [[-0.1534,  0.3322, -0.0755,  1.4114, -0.3405],\n",
       "         [-0.8822,  0.9989, -2.0616, -1.2288, -1.3333],\n",
       "         [ 1.4288,  0.6870,  0.7173,  0.5712, -0.4433],\n",
       "         [-0.1188,  0.9762,  1.4979, -0.1930,  1.6136],\n",
       "         [-0.4460,  0.3376,  0.3791, -0.4095,  0.2099],\n",
       "         [-0.0689,  2.3032, -2.0311, -0.9460, -1.9515],\n",
       "         [-0.8834,  0.2956,  0.0699, -0.1745,  0.5956],\n",
       "         [ 0.4196,  0.1325, -1.4552,  0.5631,  1.2488],\n",
       "         [-1.1302,  0.9346,  0.6068,  0.4731, -1.2558],\n",
       "         [-0.5613,  0.8914,  0.9575, -0.2208,  1.2251]]],\n",
       "       grad_fn=<AddBackward0>)"
      ]
     },
     "execution_count": 88,
     "metadata": {},
     "output_type": "execute_result"
    }
   ],
   "source": [
    "class PositionalEmbedding(nn.Module):\n",
    "    \n",
    "    def __init__(self, embedding_dims:int, block_size:int):\n",
    "        \n",
    "        super(PositionalEmbedding, self).__init__()\n",
    "        \n",
    "        self.embedding_dims = embedding_dims\n",
    "        self.block_size = block_size\n",
    "        \n",
    "        self.embedding = nn.Embedding(block_size, embedding_dims)\n",
    "        \n",
    "    def forward(self, x):\n",
    "        \n",
    "        B, T, E = x.shape # batch size, tokens, embedding dims\n",
    "        \n",
    "        # create range for size of this batch\n",
    "        position_range = torch.arange(T).to(x.device)\n",
    "        # get embeddings, then add Batch broadcasting dimension\n",
    "        position_embeddings = self.embedding(position_range)[None,...]\n",
    "        \n",
    "        x = x + position_embeddings\n",
    "        \n",
    "        return x\n",
    "    \n",
    "pe = PositionalEmbedding(5, 64)\n",
    "xx = torch.zeros(3,10,5)\n",
    "pe(xx)"
   ]
  },
  {
   "cell_type": "code",
   "execution_count": 77,
   "id": "b878009e-d298-4cec-92e0-c39b6cc2dc57",
   "metadata": {},
   "outputs": [
    {
     "data": {
      "text/plain": [
       "(torch.Size([1, 5]), torch.Size([1, 5, 64]))"
      ]
     },
     "execution_count": 77,
     "metadata": {},
     "output_type": "execute_result"
    }
   ],
   "source": [
    "class CausalTransformer(nn.Module):\n",
    "    \n",
    "    def __init__(self, vocab_size:int, num_layers:int, embedding_dims:int, heads:int, block_size:int, ff_dims:int, dropout:float =  0.1):\n",
    "        \n",
    "        '''\n",
    "        A GPT style, decoder only causal transformer\n",
    "        \n",
    "        ...\n",
    "        \n",
    "        Arguments\n",
    "        ---------\n",
    "        \n",
    "        vocab_size : int\n",
    "            total number of valid tokens in the tokenizer vocabulary\n",
    "        num_layers : int\n",
    "            number of transformer block layers to stack for the forward pass after the embedding step\n",
    "        embedding_dims : int\n",
    "            size of the embedding dimension\n",
    "        heads : int\n",
    "            number of heads in the attention block\n",
    "        block_size : int\n",
    "            maximum size of an input (T dimension)\n",
    "        ff_dims : int\n",
    "            number of hidden states for the feed forward layers\n",
    "        dropout : float\n",
    "            amount of dropout to apply after attention. 0->1\n",
    "        \n",
    "        TODO's\n",
    "        ------\n",
    "        * not config driven\n",
    "        * dropout always assumed to exist\n",
    "        '''\n",
    "        \n",
    "        super(CausalTransformer, self).__init__()\n",
    "        \n",
    "        self.vocab_size = vocab_size\n",
    "        self.num_layers = num_layers\n",
    "        self.embedding_dims = embedding_dims\n",
    "        self.heads = heads\n",
    "        self.block_size = block_size\n",
    "        self.ff_dims = ff_dims\n",
    "        self.dropout = dropout\n",
    "        \n",
    "        self.token_embedding = nn.Embedding(self.vocab_size, self.embedding_dims)\n",
    "        self.positional_embedding = PositionalEmbedding(self.embedding_dims, self.block_size)\n",
    "        self.transformer_blocks = nn.Sequential(*[TransformerBlock(embedding_dims, heads, block_size, ff_dims, dropout) for _ in range(self.num_layers)])\n",
    "        \n",
    "        self.lm_head = nn.Linear(self.embedding_dims, self.vocab_size)\n",
    "    \n",
    "    \n",
    "    def forward(self, x):\n",
    "        \n",
    "        tok_emb = self.token_embedding(x)\n",
    "        pos_emb = self.positional_embedding(tok_emb)\n",
    "        hidden_states = self.transformer_blocks(pos_emb)\n",
    "        \n",
    "        logits = self.lm_head(hidden_states)\n",
    "        \n",
    "        return logits\n",
    "\n",
    "model = CausalTransformer(64, 8, 256, 8, 64, 1024, 0.1)\n",
    "tokens = torch.tensor([[10, 15, 12, 32, 9]])\n",
    "tokens.shape, model(tokens).shape"
   ]
  },
  {
   "cell_type": "code",
   "execution_count": 78,
   "id": "22604b76-e75b-496d-9e34-28e0976428dc",
   "metadata": {},
   "outputs": [
    {
     "data": {
      "text/plain": [
       "['emma', 'olivia', 'ava', 'isabella', 'sophia']"
      ]
     },
     "execution_count": 78,
     "metadata": {},
     "output_type": "execute_result"
    }
   ],
   "source": [
    "words = open('./names.txt').read().splitlines()\n",
    "words[:5]"
   ]
  },
  {
   "cell_type": "code",
   "execution_count": 79,
   "id": "54adbd46-7607-45af-8888-7fa0c2701bb3",
   "metadata": {},
   "outputs": [
    {
     "name": "stdout",
     "output_type": "stream",
     "text": [
      "{'a': 1, 'b': 2, 'c': 3, 'd': 4, 'e': 5, 'f': 6, 'g': 7, 'h': 8, 'i': 9, 'j': 10, 'k': 11, 'l': 12, 'm': 13, 'n': 14, 'o': 15, 'p': 16, 'q': 17, 'r': 18, 's': 19, 't': 20, 'u': 21, 'v': 22, 'w': 23, 'x': 24, 'y': 25, 'z': 26, '#': 0, '$': 27} 28\n"
     ]
    }
   ],
   "source": [
    "chars = sorted(list(set(''.join(words)))) #lol\n",
    "token_lookup = {c: i+1 for i, c in enumerate(chars)}\n",
    "token_lookup['#'] = 0\n",
    "token_lookup['$'] = len(chars) + 1\n",
    "char_lookup = {i:c for c, i in token_lookup.items()}\n",
    "TOTAL_TOKENS = len(char_lookup.keys())\n",
    "print(token_lookup, TOTAL_TOKENS)"
   ]
  },
  {
   "cell_type": "code",
   "execution_count": 82,
   "id": "5d7f4438-989b-4da9-a83e-735c29e14a63",
   "metadata": {},
   "outputs": [
    {
     "name": "stdout",
     "output_type": "stream",
     "text": [
      "Block size set to 17\n",
      "torch.Size([25626, 16]) torch.Size([25626, 16])\n",
      "torch.Size([3203, 16]) torch.Size([3203, 16])\n",
      "torch.Size([3204, 16]) torch.Size([3204, 16])\n"
     ]
    }
   ],
   "source": [
    "# build the dataset\n",
    "\n",
    "BLOCK_SIZE = max([len(w) for w in words]) + 2 # context size to give the model in order to predict the next character\n",
    "print(f'Block size set to {BLOCK_SIZE}')\n",
    "\n",
    "def build_dataset(corpus, block_size, codebook, start_padding_char=\"#\", end_padding_char=\"$\"):\n",
    "    X, Y = [], []\n",
    "    for word in corpus:\n",
    "        word_len = len(word)\n",
    "        end_padding_amount = block_size - (word_len + 1)\n",
    "        end_padding = end_padding_char * end_padding_amount\n",
    "        padded_word = f\"{start_padding_char}{word}{end_padding}\"\n",
    "        tokenized_word = [codebook[c] for c in padded_word]\n",
    "        X.append(tokenized_word[:block_size-1])\n",
    "        Y.append(tokenized_word[1:])\n",
    "        \n",
    "    X = torch.tensor(X)\n",
    "    Y = torch.tensor(Y)\n",
    "    \n",
    "    print(X.shape, Y.shape)\n",
    "    \n",
    "    return X, Y\n",
    "\n",
    "\n",
    "random.shuffle(words)\n",
    "\n",
    "n1 = int(len(words)*0.8)\n",
    "n2 = int(len(words)*0.9)\n",
    "\n",
    "x_train, y_train = build_dataset(words[:n1], BLOCK_SIZE, token_lookup)\n",
    "x_valid, y_valid = build_dataset(words[n1:n2], BLOCK_SIZE, token_lookup)\n",
    "x_test, y_test = build_dataset(words[n2:], BLOCK_SIZE, token_lookup)"
   ]
  },
  {
   "cell_type": "code",
   "execution_count": 98,
   "id": "90273616-94cd-484d-8b75-3ed00135e6e6",
   "metadata": {},
   "outputs": [
    {
     "name": "stdout",
     "output_type": "stream",
     "text": [
      "15807004\n"
     ]
    },
    {
     "name": "stderr",
     "output_type": "stream",
     "text": [
      "average loss: 0.74: 100%|██████████████████████████████████████████████████████████████████████████████████████████████████████████████████████████████████████████████████████| 3000/3000 [02:32<00:00, 19.64it/s]\n"
     ]
    }
   ],
   "source": [
    "import torch.nn.functional as F\n",
    "\n",
    "model = CausalTransformer(vocab_size=TOTAL_TOKENS, num_layers=5, embedding_dims=512, heads=16, block_size=32, ff_dims=2048)\n",
    "print(sum(p.numel() for p in model.parameters()))\n",
    "\n",
    "device = 'cuda:1'\n",
    "steps = 3000\n",
    "print_steps = 2000\n",
    "BATCH_SIZE = 256\n",
    "\n",
    "losses = []\n",
    "\n",
    "optim = torch.optim.Adam(model.parameters())\n",
    "pbar = tqdm(range(steps))\n",
    "\n",
    "model.to(device)\n",
    "\n",
    "for t in pbar:\n",
    "    batch_ix = torch.randint(0, x_train.shape[0], (BATCH_SIZE,))\n",
    "    batch = x_train[batch_ix].to(device)\n",
    "    logits = model(batch)\n",
    "    y = y_train[batch_ix].view(-1)\n",
    "    \n",
    "    loss = F.cross_entropy(logits.view(-1, logits.shape[-1]), y.to(device))\n",
    "    losses.append(loss.item())\n",
    "    pbar.set_description(desc=f'average loss: {(sum(losses[-100:])/100):.2f}')\n",
    "\n",
    "    model.zero_grad()\n",
    "    loss.backward()\n",
    "    optim.step()"
   ]
  },
  {
   "cell_type": "code",
   "execution_count": 100,
   "id": "ffe7d9b0-89eb-4d8d-bb5e-ab8c9feec8d6",
   "metadata": {},
   "outputs": [
    {
     "data": {
      "image/png": "[encoded data removed]",
      "text/plain": [
       "<Figure size 432x288 with 1 Axes>"
      ]
     },
     "metadata": {
      "needs_background": "light"
     },
     "output_type": "display_data"
    }
   ],
   "source": [
    "import matplotlib.pyplot as plt\n",
    "\n",
    "plt.plot(torch.tensor(losses).view(-1, 100).mean(1))\n",
    "plt.title(\"average loss\");"
   ]
  },
  {
   "cell_type": "code",
   "execution_count": 101,
   "id": "0cb7e4ea-cbcd-4a2c-b0e9-8093c126698c",
   "metadata": {},
   "outputs": [
    {
     "data": {
      "text/plain": [
       "(('train', 0.723267138004303), ('val', 0.9275473952293396))"
      ]
     },
     "execution_count": 101,
     "metadata": {},
     "output_type": "execute_result"
    }
   ],
   "source": [
    "model.to('cpu')\n",
    "model.train(False)\n",
    "\n",
    "# clculate training and validation loss\n",
    "@torch.no_grad()\n",
    "def calc_loss(x_target, y_target):\n",
    "    logits = model(x_target)\n",
    "    loss = F.cross_entropy(logits.view(-1, logits.shape[-1]),  y_target.view(-1))\n",
    "    return loss\n",
    "\n",
    "('train', calc_loss(x_train, y_train).item()), ('val', calc_loss(x_valid, y_valid).item())"
   ]
  },
  {
   "cell_type": "code",
   "execution_count": 102,
   "id": "f5ed3599-9695-4415-b43f-6571a88309d6",
   "metadata": {},
   "outputs": [
    {
     "name": "stdout",
     "output_type": "stream",
     "text": [
      "yanine\n",
      "mark\n",
      "josniel\n",
      "hazel\n",
      "sircha\n",
      "merrit\n",
      "yesmina\n",
      "fernando\n",
      "eilany\n",
      "ralj\n",
      "remie\n",
      "mercure\n",
      "kingo\n",
      "delanie\n",
      "matilyn\n",
      "ashitha\n",
      "adaleigh\n",
      "codi\n",
      "ruhani\n",
      "linnea\n"
     ]
    },
    {
     "data": {
      "text/plain": [
       "<matplotlib.image.AxesImage at 0x7f358858abf0>"
      ]
     },
     "execution_count": 102,
     "metadata": {},
     "output_type": "execute_result"
    },
    {
     "data": {
      "image/png": "[encoded data removed]",
      "text/plain": [
       "<Figure size 720x2160 with 1 Axes>"
      ]
     },
     "metadata": {
      "needs_background": "light"
     },
     "output_type": "display_data"
    }
   ],
   "source": [
    "# sample\n",
    "prob_map = []\n",
    "@torch.no_grad()\n",
    "def sample():\n",
    "    tokens = [0] * BLOCK_SIZE\n",
    "    pos = 0\n",
    "    while True:\n",
    "        cur_tokens = torch.tensor(tokens).unsqueeze(0)\n",
    "        logits = model(cur_tokens).squeeze(0)\n",
    "        probs = torch.softmax(logits[pos], dim=0)\n",
    "        prob_map.append(probs.detach().numpy())\n",
    "        ix = torch.multinomial(probs, num_samples=1).item()\n",
    "        tokens[pos + 1] = ix\n",
    "        pos += 1\n",
    "        if ix == 27 or pos == BLOCK_SIZE - 1:\n",
    "            break\n",
    "    decoded = \"\".join([char_lookup[t] for t in tokens])\n",
    "    return decoded.replace(\"#\", \"\").replace(\"$\", \"\")\n",
    "\n",
    "for i in range(20):\n",
    "    print(sample())\n",
    "    prob_map.append([0.3] * len(prob_map[-1]))\n",
    "    \n",
    "plt.figure(figsize=(10,30))\n",
    "plt.imshow(prob_map)"
   ]
  },
  {
   "cell_type": "code",
   "execution_count": 156,
   "id": "26dc931c-06a1-455f-b5b6-628792eff11e",
   "metadata": {},
   "outputs": [
    {
     "name": "stdout",
     "output_type": "stream",
     "text": [
      "ariana\n",
      "ariana\n",
      "ariana\n",
      "ariana\n",
      "ariana\n",
      "ariana\n",
      "ariana\n",
      "ariana\n",
      "ariana\n",
      "ariana\n",
      "ariana\n",
      "ariana\n",
      "ariana\n",
      "ariana\n",
      "ariana\n",
      "ariana\n",
      "ariana\n",
      "ariana\n",
      "ariana\n",
      "ariana\n"
     ]
    }
   ],
   "source": [
    "# sample\n",
    "@torch.no_grad()\n",
    "def p_sample(p, temp=1.0, top_k=3):\n",
    "    tokens = [token_lookup[t] for t in p]\n",
    "    tokens = tokens + [0] * (BLOCK_SIZE - len(tokens))\n",
    "    pos = len(p)\n",
    "    while True:\n",
    "        cur_tokens = torch.tensor(tokens).unsqueeze(0)\n",
    "        logits = model(cur_tokens)\n",
    "        logits = logits[:, pos, :] / temp\n",
    "        top_k_vals, _ = torch.topk(logits, top_k)\n",
    "        # set any value less than the K'th value to -inf\n",
    "        kth_vals = top_k_vals[:, [-1]]\n",
    "        logits[logits < kth_vals] = float('-inf')\n",
    "        probs = torch.softmax(logits, dim=-1)\n",
    "        prob_map.append(probs.detach().numpy())\n",
    "        ix = torch.multinomial(probs, num_samples=1).item()\n",
    "        tokens[pos + 1] = ix\n",
    "        pos += 1\n",
    "        if ix == 27 or pos == BLOCK_SIZE - 1:\n",
    "            break\n",
    "    decoded = \"\".join([char_lookup[t] for t in tokens])\n",
    "    return decoded.replace(\"#\", \"\").replace(\"$\", \"\")\n",
    "\n",
    "for i in range(20):\n",
    "    print(p_sample(\"#\", 0.0001))\n",
    "    "
   ]
  }
 ],
 "metadata": {
  "kernelspec": {
   "display_name": "Python 3 (ipykernel)",
   "language": "python",
   "name": "python3"
  },
  "language_info": {
   "codemirror_mode": {
    "name": "ipython",
    "version": 3
   },
   "file_extension": ".py",
   "mimetype": "text/x-python",
   "name": "python",
   "nbconvert_exporter": "python",
   "pygments_lexer": "ipython3",
   "version": "3.10.6"
  }
 },
 "nbformat": 4,
 "nbformat_minor": 5
}
