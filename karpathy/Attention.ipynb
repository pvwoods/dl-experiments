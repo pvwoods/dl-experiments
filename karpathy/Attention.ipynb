{
 "cells": [
  {
   "cell_type": "markdown",
   "id": "5dcb0555-730c-4a55-864a-ba175ca8107b",
   "metadata": {},
   "source": [
    "### Attention Fooling Around"
   ]
  },
  {
   "cell_type": "code",
   "execution_count": 2,
   "id": "996fc395-d410-454a-a89c-7b947cc32f0a",
   "metadata": {},
   "outputs": [],
   "source": [
    "import torch\n",
    "import torch.nn as nn\n",
    "import torch.nn.functional as F\n",
    "import matplotlib.pyplot as plt\n",
    "import random\n",
    "import math\n",
    "from tqdm import tqdm\n",
    "import random\n",
    "%matplotlib inline"
   ]
  },
  {
   "cell_type": "code",
   "execution_count": 3,
   "id": "546b9738-cd77-4b5a-8d41-37ca57d1798a",
   "metadata": {},
   "outputs": [
    {
     "data": {
      "text/plain": [
       "['emma', 'olivia', 'ava', 'isabella', 'sophia']"
      ]
     },
     "execution_count": 3,
     "metadata": {},
     "output_type": "execute_result"
    }
   ],
   "source": [
    "words = open('./names.txt').read().splitlines()\n",
    "words[:5]"
   ]
  },
  {
   "cell_type": "code",
   "execution_count": 6,
   "id": "c0340862-8cbd-4071-8a7c-f804e6829e24",
   "metadata": {},
   "outputs": [],
   "source": [
    "chars = sorted(list(set(''.join(words)))) #lol\n",
    "token_lookup = {c: i+1 for i, c in enumerate(chars)}\n",
    "token_lookup['.'] = 0\n",
    "char_lookup = {i:c for c, i in token_lookup.items()}\n",
    "TOTAL_TOKENS = len(char_lookup.keys())"
   ]
  },
  {
   "cell_type": "code",
   "execution_count": 7,
   "id": "46b56a97-056e-4b13-ac53-2583adc4df7c",
   "metadata": {},
   "outputs": [
    {
     "name": "stdout",
     "output_type": "stream",
     "text": [
      "torch.Size([182523, 8]) torch.Size([182523])\n",
      "torch.Size([22861, 8]) torch.Size([22861])\n",
      "torch.Size([22762, 8]) torch.Size([22762])\n"
     ]
    }
   ],
   "source": [
    "# build the dataset\n",
    "\n",
    "BLOCK_SIZE = 8 # context size to give the model in order to predict the next character\n",
    "\n",
    "def build_dataset(corpus, block_size, codebook, padding_char=\".\"):\n",
    "    X, Y = [], []\n",
    "    for word in corpus:\n",
    "        start_padding = padding_char * block_size\n",
    "        padded_word = f\"{start_padding}{word}.\"\n",
    "        tokenized_word = [codebook[c] for c in padded_word]\n",
    "        for i in range(len(tokenized_word)-block_size):\n",
    "            X.append(tokenized_word[i:i+block_size])\n",
    "            Y.append(tokenized_word[i+block_size])\n",
    "        \n",
    "    X = torch.tensor(X)\n",
    "    Y = torch.tensor(Y)\n",
    "    \n",
    "    print(X.shape, Y.shape)\n",
    "    \n",
    "    return X, Y\n",
    "\n",
    "\n",
    "random.shuffle(words)\n",
    "\n",
    "n1 = int(len(words)*0.8)\n",
    "n2 = int(len(words)*0.9)\n",
    "\n",
    "x_train, y_train = build_dataset(words[:n1], BLOCK_SIZE, token_lookup)\n",
    "x_valid, y_valid = build_dataset(words[n1:n2], BLOCK_SIZE, token_lookup)\n",
    "x_test, y_test = build_dataset(words[n2:], BLOCK_SIZE, token_lookup)"
   ]
  },
  {
   "cell_type": "code",
   "execution_count": 95,
   "id": "08e081ec-c2f3-4d0d-8893-16bd89c6bbf4",
   "metadata": {},
   "outputs": [],
   "source": [
    "class ScaledDotProductAttention(nn.Module):\n",
    "    \n",
    "    def __init__(self, in_dims, hidden_dims, context_size):\n",
    "        \n",
    "        super(ScaledDotProductAttention, self).__init__()\n",
    "        \n",
    "        self.queries = nn.Linear(in_dims, hidden_dims)\n",
    "        self.keys = nn.Linear(in_dims, hidden_dims)\n",
    "        self.values = nn.Linear(in_dims, hidden_dims)\n",
    "        \n",
    "        self.dk_scale = torch.sqrt(in_dims if isinstance(in_dims, torch.Tensor) else torch.tensor(in_dims))\n",
    "        \n",
    "        self.projection = nn.Linear(context_size * hidden_dims, hidden_dims)\n",
    "        \n",
    "    def forward(self, x):\n",
    "        \n",
    "        q_state = self.queries(x)\n",
    "        k_state = self.keys(x).permute(0, 2, 1) # transpose\n",
    "        v_state = self.values(x)\n",
    "        \n",
    "        qk_state = ((q_state @ k_state) / self.dk_scale).permute(0, 1, 2)\n",
    "        qk_state = torch.softmax(qk_state, -1)\n",
    "        \n",
    "        attention = qk_state @ v_state\n",
    "        \n",
    "        out = self.projection(attention.view(attention.shape[0],-1)) # this might be wrong!\n",
    "        \n",
    "        return out\n",
    "    \n",
    "class Model(nn.Module):\n",
    "    \n",
    "    def __init__(self, token_size:int, embedding_dims:int, hidden_dims:int, block_size:int):\n",
    "        \n",
    "        super(Model, self).__init__()\n",
    "        \n",
    "        self.hidden_dims = hidden_dims\n",
    "        \n",
    "        self.embedding_layer = nn.Embedding(token_size, embedding_dims)\n",
    "        self.attention_sequence = nn.Sequential(\n",
    "            ScaledDotProductAttention(embedding_dims, hidden_dims, block_size),\n",
    "            nn.ReLU(),\n",
    "            nn.Linear(hidden_dims, token_size)\n",
    "        )\n",
    "        \n",
    "    def forward(self, x):\n",
    "        embedding = self.embedding_layer(x)\n",
    "        out = self.attention_sequence(embedding)\n",
    "        return out"
   ]
  },
  {
   "cell_type": "code",
   "execution_count": 100,
   "id": "2e506903-e93c-4ac0-addd-eb9e09f7a85a",
   "metadata": {},
   "outputs": [
    {
     "name": "stdout",
     "output_type": "stream",
     "text": [
      "551331\n"
     ]
    },
    {
     "name": "stderr",
     "output_type": "stream",
     "text": [
      "average loss: 1.91: 100%|████████████████| 10000/10000 [00:32<00:00, 309.81it/s]\n"
     ]
    }
   ],
   "source": [
    "EMBEDDING_DIMS = 24\n",
    "HIDDEN_DIMS = 256\n",
    "\n",
    "model = Model(embedding_dims=EMBEDDING_DIMS, token_size=TOTAL_TOKENS, hidden_dims=HIDDEN_DIMS, block_size=BLOCK_SIZE)\n",
    "print(sum(p.numel() for p in model.parameters()))\n",
    "\n",
    "device = 'cuda:1'\n",
    "steps = 10000\n",
    "print_steps = 2000\n",
    "BATCH_SIZE = 256\n",
    "\n",
    "losses = []\n",
    "\n",
    "optim = torch.optim.Adam(model.parameters())\n",
    "pbar = tqdm(range(steps))\n",
    "\n",
    "model.to(device)\n",
    "\n",
    "for t in pbar:\n",
    "    batch_ix = torch.randint(0, x_train.shape[0], (BATCH_SIZE,))\n",
    "    batch = x_train[batch_ix].to(device)\n",
    "    logits = model(batch)\n",
    "    \n",
    "    loss = F.cross_entropy(logits, y_train[batch_ix].to(device))\n",
    "    losses.append(loss.item())\n",
    "    pbar.set_description(desc=f'average loss: {(sum(losses[-100:])/100):.2f}')\n",
    "\n",
    "    model.zero_grad()\n",
    "    loss.backward()\n",
    "    optim.step()"
   ]
  },
  {
   "cell_type": "code",
   "execution_count": 101,
   "id": "96b7c176-9161-4c86-8d65-65d473f18cc1",
   "metadata": {},
   "outputs": [
    {
     "data": {
      "image/png": "[encoded data removed]",
      "text/plain": [
       "<Figure size 432x288 with 1 Axes>"
      ]
     },
     "metadata": {
      "needs_background": "light"
     },
     "output_type": "display_data"
    }
   ],
   "source": [
    "plt.plot(torch.tensor(losses).view(-1, 250).mean(1))\n",
    "plt.title(\"average loss\");"
   ]
  },
  {
   "cell_type": "code",
   "execution_count": 102,
   "id": "f6d3fded-3366-4e9d-b7d3-385b7606fb2c",
   "metadata": {},
   "outputs": [
    {
     "data": {
      "text/plain": [
       "(('train', 1.894067645072937), ('val', 2.075551986694336))"
      ]
     },
     "execution_count": 102,
     "metadata": {},
     "output_type": "execute_result"
    }
   ],
   "source": [
    "model.to('cpu')\n",
    "model.train(False)\n",
    "\n",
    "# clculate training and validation loss\n",
    "@torch.no_grad()\n",
    "def calc_loss(x_target, y_target):\n",
    "    logits = model(x_target)\n",
    "    loss = F.cross_entropy(logits, y_target)\n",
    "    return loss\n",
    "\n",
    "('train', calc_loss(x_train, y_train).item()), ('val', calc_loss(x_valid, y_valid).item())"
   ]
  },
  {
   "cell_type": "code",
   "execution_count": 103,
   "id": "ac755b04-24a5-49c7-b3c8-50858400355f",
   "metadata": {},
   "outputs": [
    {
     "name": "stdout",
     "output_type": "stream",
     "text": [
      "aaylar\n",
      "nayelle\n",
      "kanling\n",
      "conathen\n",
      "calillia\n",
      "pragabe\n",
      "hingolit\n",
      "hadlyn\n",
      "zaye\n",
      "wellary\n",
      "sachan\n",
      "successel\n",
      "salarya\n",
      "marissa\n",
      "damyryn\n",
      "aila\n",
      "rekli\n",
      "kehed\n",
      "lillann\n",
      "reina\n"
     ]
    }
   ],
   "source": [
    "# sample\n",
    "@torch.no_grad()\n",
    "def sample():\n",
    "    tokens = [0] * BLOCK_SIZE\n",
    "    while True:\n",
    "        cur_tokens = torch.tensor(tokens[-BLOCK_SIZE:]).unsqueeze(0)\n",
    "        logits = model(cur_tokens)\n",
    "        probs = F.softmax(logits, dim=1)\n",
    "        ix = torch.multinomial(probs, num_samples=1).item()\n",
    "        tokens.append(ix)\n",
    "        if ix == 0:\n",
    "            break\n",
    "    return \"\".join([char_lookup[t] for t in tokens][BLOCK_SIZE:-1])\n",
    "\n",
    "for i in range(20):\n",
    "    print(sample())"
   ]
  }
 ],
 "metadata": {
  "kernelspec": {
   "display_name": "Python 3 (ipykernel)",
   "language": "python",
   "name": "python3"
  },
  "language_info": {
   "codemirror_mode": {
    "name": "ipython",
    "version": 3
   },
   "file_extension": ".py",
   "mimetype": "text/x-python",
   "name": "python",
   "nbconvert_exporter": "python",
   "pygments_lexer": "ipython3",
   "version": "3.10.6"
  }
 },
 "nbformat": 4,
 "nbformat_minor": 5
}
