{
 "cells": [
  {
   "cell_type": "markdown",
   "id": "84c8b58e-d3ef-4c03-b6cc-0db812117861",
   "metadata": {},
   "source": [
    "### Basic RNN"
   ]
  },
  {
   "cell_type": "code",
   "execution_count": 2,
   "id": "f4013747-d1f2-4e02-b316-ed05bf51cb65",
   "metadata": {},
   "outputs": [],
   "source": [
    "import torch\n",
    "import torch.nn as nn\n",
    "import torch.nn.functional as F\n",
    "import matplotlib.pyplot as plt\n",
    "import random\n",
    "import math\n",
    "from tqdm import tqdm\n",
    "import random\n",
    "%matplotlib inline"
   ]
  },
  {
   "cell_type": "code",
   "execution_count": 3,
   "id": "134c0a86-8427-4973-9e92-aab295ea2a82",
   "metadata": {},
   "outputs": [
    {
     "data": {
      "text/plain": [
       "['emma', 'olivia', 'ava', 'isabella', 'sophia']"
      ]
     },
     "execution_count": 3,
     "metadata": {},
     "output_type": "execute_result"
    }
   ],
   "source": [
    "words = open('./names.txt').read().splitlines()\n",
    "words[:5]"
   ]
  },
  {
   "cell_type": "code",
   "execution_count": 4,
   "id": "38f79e4d-eedf-43f1-88dc-bc3014b94362",
   "metadata": {},
   "outputs": [],
   "source": [
    "chars = sorted(list(set(''.join(words)))) #lol\n",
    "token_lookup = {c: i+1 for i, c in enumerate(chars)}\n",
    "token_lookup['.'] = 0\n",
    "char_lookup = {i:c for c, i in token_lookup.items()}\n",
    "TOTAL_TOKENS = len(char_lookup.keys())"
   ]
  },
  {
   "cell_type": "code",
   "execution_count": 5,
   "id": "5c9c9f3a-55d5-4be9-82cf-a9bbb08b3663",
   "metadata": {},
   "outputs": [
    {
     "name": "stdout",
     "output_type": "stream",
     "text": [
      "torch.Size([182370, 8]) torch.Size([182370])\n",
      "torch.Size([22917, 8]) torch.Size([22917])\n",
      "torch.Size([22859, 8]) torch.Size([22859])\n"
     ]
    }
   ],
   "source": [
    "# build the dataset\n",
    "\n",
    "BLOCK_SIZE = 8 # context size to give the model in order to predict the next character\n",
    "\n",
    "def build_dataset(corpus, block_size, codebook, padding_char=\".\"):\n",
    "    X, Y = [], []\n",
    "    for word in corpus:\n",
    "        start_padding = padding_char * block_size\n",
    "        padded_word = f\"{start_padding}{word}.\"\n",
    "        tokenized_word = [codebook[c] for c in padded_word]\n",
    "        for i in range(len(tokenized_word)-block_size):\n",
    "            X.append(tokenized_word[i:i+block_size])\n",
    "            Y.append(tokenized_word[i+block_size])\n",
    "        \n",
    "    X = torch.tensor(X)\n",
    "    Y = torch.tensor(Y)\n",
    "    \n",
    "    print(X.shape, Y.shape)\n",
    "    \n",
    "    return X, Y\n",
    "\n",
    "\n",
    "random.shuffle(words)\n",
    "\n",
    "n1 = int(len(words)*0.8)\n",
    "n2 = int(len(words)*0.9)\n",
    "\n",
    "x_train, y_train = build_dataset(words[:n1], BLOCK_SIZE, token_lookup)\n",
    "x_valid, y_valid = build_dataset(words[n1:n2], BLOCK_SIZE, token_lookup)\n",
    "x_test, y_test = build_dataset(words[n2:], BLOCK_SIZE, token_lookup)"
   ]
  },
  {
   "cell_type": "code",
   "execution_count": 22,
   "id": "af74e5da-da64-4fc1-9f99-e368ec8c25a2",
   "metadata": {},
   "outputs": [],
   "source": [
    "class LSTM(nn.Module):\n",
    "    \n",
    "    def __init__(self, input_dims, hidden_dims, out_dims):\n",
    "        \n",
    "        super(LSTM, self).__init__()\n",
    "        \n",
    "        self.input_dims = input_dims\n",
    "        self.hidden_dims = hidden_dims\n",
    "        self.out_dims = out_dims\n",
    "        \n",
    "        self.input_gate = nn.Linear(self.input_dims + self.hidden_dims, self.hidden_dims)\n",
    "        self.forget_gate = nn.Linear(self.input_dims + self.hidden_dims, self.hidden_dims)\n",
    "        self.cell_gate = nn.Linear(self.input_dims + self.hidden_dims, self.hidden_dims)\n",
    "        self.output_gate = nn.Linear(self.input_dims + self.hidden_dims, self.hidden_dims)\n",
    "        \n",
    "        self.out_layer = nn.Linear(self.hidden_dims, self.out_dims)\n",
    "        \n",
    "    def forward(self, packed):\n",
    "        \n",
    "        x, hidden_state, output, prev_cell_activation = packed\n",
    "        \n",
    "        x_h = torch.cat((x,hidden_state), dim=1)\n",
    "        input_mask = torch.sigmoid(self.input_gate(x_h))\n",
    "        forget_mask = torch.sigmoid(self.forget_gate(x_h))\n",
    "        cell_mask = torch.tanh(self.cell_gate(x_h))\n",
    "        output_mask = torch.sigmoid(self.output_gate(x_h))\n",
    "        cell_activation = (forget_mask * prev_cell_activation) + (input_mask * cell_mask)\n",
    "        next_hidden = output_mask * torch.tanh(cell_activation)\n",
    "        next_out = self.out_layer(next_hidden)\n",
    "        \n",
    "        return x, next_hidden, next_out, cell_activation\n",
    "\n",
    "class Model(nn.Module):\n",
    "    \n",
    "    def __init__(self, token_size:int, embedding_dims:int, hidden_dims:int, block_size:int):\n",
    "        \n",
    "        super(Model, self).__init__()\n",
    "        \n",
    "        self.hidden_dims = hidden_dims\n",
    "        \n",
    "        self.embedding_layer = nn.Embedding(token_size, embedding_dims)\n",
    "        self.lstm_sequence = nn.Sequential(\n",
    "            LSTM(embedding_dims, hidden_dims, hidden_dims),\n",
    "            LSTM(embedding_dims, hidden_dims, hidden_dims),\n",
    "            LSTM(embedding_dims, hidden_dims, hidden_dims)\n",
    "        )\n",
    "        \n",
    "        self.output = nn.Linear(hidden_dims, token_size)\n",
    "        \n",
    "    def create_hidden(self, batch_size):\n",
    "        return torch.zeros(batch_size, self.hidden_dims)\n",
    "        \n",
    "    def forward(self, x, hidden, cell_state):\n",
    "        embedding = self.embedding_layer(x)\n",
    "        for emb_ix in range(embedding.shape[1]):\n",
    "            next_token_embedding = embedding[:,emb_ix]\n",
    "            x, hidden, out, cell_state = self.lstm_sequence((next_token_embedding, hidden, None, cell_state))\n",
    "        \n",
    "        out = self.output(out)\n",
    "        \n",
    "        return out"
   ]
  },
  {
   "cell_type": "code",
   "execution_count": 23,
   "id": "5ef68091-35c1-462c-93d8-45a74a945595",
   "metadata": {},
   "outputs": [
    {
     "name": "stdout",
     "output_type": "stream",
     "text": [
      "73695\n"
     ]
    },
    {
     "name": "stderr",
     "output_type": "stream",
     "text": [
      "average loss: 2.03: 100%|███████████████████| 5000/5000 [02:23<00:00, 34.96it/s]\n"
     ]
    }
   ],
   "source": [
    "EMBEDDING_DIMS = 12\n",
    "HIDDEN_DIMS = 64\n",
    "\n",
    "model = Model(embedding_dims=EMBEDDING_DIMS, token_size=TOTAL_TOKENS, hidden_dims=HIDDEN_DIMS, block_size=BLOCK_SIZE)\n",
    "print(sum(p.numel() for p in model.parameters()))\n",
    "\n",
    "device = 'cuda:1'\n",
    "steps = 5000\n",
    "print_steps = 2000\n",
    "BATCH_SIZE = 256\n",
    "\n",
    "losses = []\n",
    "\n",
    "optim = torch.optim.Adam(model.parameters())\n",
    "pbar = tqdm(range(steps))\n",
    "\n",
    "model.to(device)\n",
    "\n",
    "for t in pbar:\n",
    "    batch_ix = torch.randint(0, x_train.shape[0], (BATCH_SIZE,))\n",
    "    batch = x_train[batch_ix].to(device)\n",
    "    hidden = model.create_hidden(BATCH_SIZE).to(device)\n",
    "    cell_state = model.create_hidden(BATCH_SIZE).to(device)\n",
    "    logits = model(batch, hidden, cell_state)\n",
    "    \n",
    "    loss = F.cross_entropy(logits, y_train[batch_ix].to(device))\n",
    "    losses.append(loss.item())\n",
    "    pbar.set_description(desc=f'average loss: {(sum(losses[-100:])/100):.2f}')\n",
    "\n",
    "    model.zero_grad()\n",
    "    loss.backward()\n",
    "    optim.step()"
   ]
  },
  {
   "cell_type": "code",
   "execution_count": 26,
   "id": "15a8f7bf-2130-4b59-aa18-cacce5fd2285",
   "metadata": {},
   "outputs": [
    {
     "data": {
      "image/png": "[encoded data removed]",
      "text/plain": [
       "<Figure size 432x288 with 1 Axes>"
      ]
     },
     "metadata": {
      "needs_background": "light"
     },
     "output_type": "display_data"
    }
   ],
   "source": [
    "plt.plot(torch.tensor(losses).view(-1, 250).mean(1))\n",
    "plt.title(\"average loss\");"
   ]
  },
  {
   "cell_type": "code",
   "execution_count": 28,
   "id": "632abc11-2ccd-48fc-b2fb-13946cd8b195",
   "metadata": {},
   "outputs": [
    {
     "data": {
      "text/plain": [
       "(('train', 2.027751922607422), ('val', 2.0639679431915283))"
      ]
     },
     "execution_count": 28,
     "metadata": {},
     "output_type": "execute_result"
    }
   ],
   "source": [
    "model.to('cpu')\n",
    "model.train(False)\n",
    "\n",
    "# clculate training and validation loss\n",
    "@torch.no_grad()\n",
    "def calc_loss(x_target, y_target):\n",
    "    hidden = model.create_hidden(x_target.shape[0])\n",
    "    cell_state = model.create_hidden(x_target.shape[0])\n",
    "    logits = model(x_target, hidden, cell_state)\n",
    "    loss = F.cross_entropy(logits, y_target)\n",
    "    return loss\n",
    "\n",
    "('train', calc_loss(x_train, y_train).item()), ('val', calc_loss(x_valid, y_valid).item())"
   ]
  },
  {
   "cell_type": "code",
   "execution_count": 29,
   "id": "c36a919e-1236-43ca-b0a6-14cc94e5297b",
   "metadata": {},
   "outputs": [
    {
     "name": "stdout",
     "output_type": "stream",
     "text": [
      "aylin\n",
      "josin\n",
      "navayah\n",
      "levanni\n",
      "emilly\n",
      "halfon\n",
      "zale\n",
      "thafwin\n",
      "aylin\n",
      "teshaem\n",
      "soem\n",
      "alyssend\n",
      "ellax\n",
      "amishan\n",
      "mukin\n",
      "selly\n",
      "danaege\n",
      "ardra\n",
      "donera\n",
      "tamalee\n"
     ]
    }
   ],
   "source": [
    "# sample\n",
    "@torch.no_grad()\n",
    "def sample():\n",
    "    tokens = [0] * BLOCK_SIZE\n",
    "    while True:\n",
    "        cur_tokens = torch.tensor(tokens[-BLOCK_SIZE:]).unsqueeze(0)\n",
    "        hidden = model.create_hidden(1)\n",
    "        cell_state = model.create_hidden(1)\n",
    "        logits = model(cur_tokens, hidden, cell_state)\n",
    "        probs = F.softmax(logits, dim=1)\n",
    "        ix = torch.multinomial(probs, num_samples=1).item()\n",
    "        tokens.append(ix)\n",
    "        if ix == 0:\n",
    "            break\n",
    "    return \"\".join([char_lookup[t] for t in tokens][BLOCK_SIZE:-1])\n",
    "\n",
    "for i in range(20):\n",
    "    print(sample())"
   ]
  }
 ],
 "metadata": {
  "kernelspec": {
   "display_name": "Python 3 (ipykernel)",
   "language": "python",
   "name": "python3"
  },
  "language_info": {
   "codemirror_mode": {
    "name": "ipython",
    "version": 3
   },
   "file_extension": ".py",
   "mimetype": "text/x-python",
   "name": "python",
   "nbconvert_exporter": "python",
   "pygments_lexer": "ipython3",
   "version": "3.10.6"
  }
 },
 "nbformat": 4,
 "nbformat_minor": 5
}
