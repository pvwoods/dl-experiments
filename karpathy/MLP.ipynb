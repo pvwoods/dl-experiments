{
 "cells": [
  {
   "cell_type": "code",
   "execution_count": 239,
   "id": "29c7bf3a-7124-40e3-b48e-c3e780bd11b9",
   "metadata": {},
   "outputs": [],
   "source": [
    "import torch\n",
    "import torch.nn.functional as F\n",
    "import matplotlib.pyplot as plt\n",
    "import random\n",
    "%matplotlib inline"
   ]
  },
  {
   "cell_type": "code",
   "execution_count": 124,
   "id": "817553a6-85c2-4401-a4c5-c6d4d958257f",
   "metadata": {},
   "outputs": [
    {
     "data": {
      "text/plain": [
       "['emma', 'olivia', 'ava', 'isabella', 'sophia']"
      ]
     },
     "execution_count": 124,
     "metadata": {},
     "output_type": "execute_result"
    }
   ],
   "source": [
    "words = open('./names.txt').read().splitlines()\n",
    "words[:5]"
   ]
  },
  {
   "cell_type": "code",
   "execution_count": 125,
   "id": "a54f7e45-7d68-468a-878c-3feca2f17f8f",
   "metadata": {},
   "outputs": [],
   "source": [
    "chars = sorted(list(set(''.join(words)))) #lol\n",
    "token_lookup = {c: i+1 for i, c in enumerate(chars)}\n",
    "token_lookup['.'] = 0\n",
    "char_lookup = {i:c for c, i in token_lookup.items()}\n",
    "TOTAL_TOKENS = len(char_lookup.keys())"
   ]
  },
  {
   "cell_type": "code",
   "execution_count": 240,
   "id": "86a86479-3a32-434e-9c94-930dc804d209",
   "metadata": {},
   "outputs": [],
   "source": [
    "# build the dataset\n",
    "\n",
    "BLOCK_SIZE = 3 # context size to give the model in order to predict the next character\n",
    "\n",
    "def build_dataset(corpus, block_size, codebook, padding_char=\".\"):\n",
    "    X, Y = [], []\n",
    "    for word in corpus:\n",
    "        start_padding = padding_char * block_size\n",
    "        padded_word = f\"{start_padding}{word}.\"\n",
    "        tokenized_word = [codebook[c] for c in padded_word]\n",
    "        for i in range(len(tokenized_word)-block_size):\n",
    "            X.append(tokenized_word[i:i+block_size])\n",
    "            Y.append(tokenized_word[i+block_size])\n",
    "        \n",
    "    X = torch.tensor(X)\n",
    "    Y = torch.tensor(Y)\n",
    "    return X, Y\n",
    "\n",
    "\n",
    "random.shuffle(words)\n",
    "\n",
    "n1 = int(len(words)*0.8)\n",
    "n2 = int(len(words)*0.9)\n",
    "\n",
    "x_train, y_train = build_dataset(words[:n1], BLOCK_SIZE, token_lookup)\n",
    "x_valid, y_valid = build_dataset(words[n1:n2], BLOCK_SIZE, token_lookup)\n",
    "x_test, y_test = build_dataset(words[n2:], BLOCK_SIZE, token_lookup)"
   ]
  },
  {
   "cell_type": "code",
   "execution_count": 266,
   "id": "1d82c534-cb15-4095-937a-545c4e29bbd7",
   "metadata": {},
   "outputs": [],
   "source": [
    "TOTAL_NEURONS = 200\n",
    "EMBEDDING_DIMS = 10 # embed 27 characters into N dimensional space\n",
    "\n",
    "C = torch.randn((TOTAL_TOKENS, EMBEDDING_DIMS))\n",
    "W1 = torch.randn((EMBEDDING_DIMS * BLOCK_SIZE, TOTAL_NEURONS))\n",
    "b1 = torch.randn((TOTAL_NEURONS,))\n",
    "W2 = torch.randn(TOTAL_NEURONS, TOTAL_TOKENS)\n",
    "b2 = torch.randn((TOTAL_TOKENS,))\n",
    "parameters = [C, W1, b1, W2, b2]\n",
    "\n",
    "for p in parameters:\n",
    "    p.requires_grad = True\n",
    "    p.to('cuda')"
   ]
  },
  {
   "cell_type": "code",
   "execution_count": 215,
   "id": "347568cd-be86-4619-b3aa-997b17ee1cfd",
   "metadata": {},
   "outputs": [
    {
     "data": {
      "text/plain": [
       "[<matplotlib.lines.Line2D at 0x7f4bc03ddb80>]"
      ]
     },
     "execution_count": 215,
     "metadata": {},
     "output_type": "execute_result"
    },
    {
     "data": {
      "image/png": "[encoded data removed]",
      "text/plain": [
       "<Figure size 432x288 with 1 Axes>"
      ]
     },
     "metadata": {
      "needs_background": "light"
     },
     "output_type": "display_data"
    }
   ],
   "source": [
    "lre = torch.linspace(-3, 0, 1000)\n",
    "lrs = 10**lre\n",
    "plt.plot(lrs)"
   ]
  },
  {
   "cell_type": "code",
   "execution_count": 220,
   "id": "d9c25e1a-6834-4b3a-8542-bffc7291d4cb",
   "metadata": {},
   "outputs": [
    {
     "data": {
      "text/plain": [
       "[<matplotlib.lines.Line2D at 0x7f4bc022d9d0>]"
      ]
     },
     "execution_count": 220,
     "metadata": {},
     "output_type": "execute_result"
    },
    {
     "data": {
      "image/png": "[encoded data removed]",
      "text/plain": [
       "<Figure size 432x288 with 1 Axes>"
      ]
     },
     "metadata": {
      "needs_background": "light"
     },
     "output_type": "display_data"
    }
   ],
   "source": [
    "steps = 1000\n",
    "BATCH_SIZE = 512\n",
    "loss_history = []\n",
    "\n",
    "for t in range(steps):\n",
    "    # forward pass\n",
    "    batch_ix = torch.randint(0, x_train.shape[0], (32,))\n",
    "    embeddings = C[x_train[batch_ix]]\n",
    "    cat_embeddings = embeddings.view(-1, EMBEDDING_DIMS * BLOCK_SIZE)\n",
    "    hidden_states_01 = torch.tanh(cat_embeddings @ W1 + b1)\n",
    "    logits = hidden_states_01 @ W2 + b2\n",
    "    loss = F.cross_entropy(logits, y_train[batch_ix])\n",
    "    loss_history.append(loss.item())\n",
    "    #backward pass\n",
    "    for p in parameters:\n",
    "        p.grad = None\n",
    "    loss.backward()\n",
    "    lr = lrs[t]\n",
    "    for p in parameters:\n",
    "        p.data += -lr * p.grad\n",
    "plt.plot(lre, loss_history)\n"
   ]
  },
  {
   "cell_type": "code",
   "execution_count": 270,
   "id": "f539fdf3-7010-4316-a88a-b30721128f46",
   "metadata": {},
   "outputs": [
    {
     "name": "stdout",
     "output_type": "stream",
     "text": [
      "step 0: 1.9271050691604614\n",
      "step 500: 2.1899304389953613\n",
      "step 1000: 2.398402690887451\n",
      "step 1500: 2.1608669757843018\n"
     ]
    }
   ],
   "source": [
    "steps = 2000\n",
    "print_steps = 500\n",
    "BATCH_SIZE = 256\n",
    "lrs = [1e-3]\n",
    "\n",
    "for lr in lrs: # janky decay\n",
    "    for t in range(steps):\n",
    "        # forward pass\n",
    "        batch_ix = torch.randint(0, x_train.shape[0], (32,))\n",
    "        embeddings = C[x_train[batch_ix]]\n",
    "        cat_embeddings = embeddings.view(-1, EMBEDDING_DIMS * BLOCK_SIZE)\n",
    "        hidden_states_01 = torch.tanh(cat_embeddings @ W1 + b1)\n",
    "        logits = hidden_states_01 @ W2 + b2\n",
    "        loss = F.cross_entropy(logits, y_train[batch_ix])\n",
    "        if t % print_steps == 0:\n",
    "            print(f'step {t}: {loss.item()}')\n",
    "        #backward pass\n",
    "        for p in parameters:\n",
    "            p.grad = None\n",
    "        loss.backward()\n",
    "        for p in parameters:\n",
    "            p.data += -lr * p.grad\n"
   ]
  },
  {
   "cell_type": "code",
   "execution_count": 271,
   "id": "1d8437ba-5a8f-46d5-b3f8-07930537c41d",
   "metadata": {},
   "outputs": [
    {
     "data": {
      "text/plain": [
       "(tensor(2.2125, grad_fn=<NllLossBackward0>),\n",
       " tensor(2.2486, grad_fn=<NllLossBackward0>))"
      ]
     },
     "execution_count": 271,
     "metadata": {},
     "output_type": "execute_result"
    }
   ],
   "source": [
    "# clculate training and validation loss\n",
    "@torch.no_grad\n",
    "def calc_loss(x_target, y_target):\n",
    "    emb = C[x_target].view(-1, EMBEDDING_DIMS * BLOCK_SIZE)\n",
    "    h = torch.tanh(emb @ W1 + b1)\n",
    "    logits = h @ W2 + b2\n",
    "    loss = F.cross_entropy(logits, y_target)\n",
    "    return loss\n",
    "\n",
    "calc_loss(x_train, y_train), calc_loss(x_valid, y_valid)"
   ]
  },
  {
   "cell_type": "code",
   "execution_count": 287,
   "id": "256b36b9-8c2b-4fbf-927e-8f453f69ce2e",
   "metadata": {},
   "outputs": [
    {
     "name": "stdout",
     "output_type": "stream",
     "text": [
      "amyaan\n",
      "radal\n",
      "brena\n",
      "zusicka\n",
      "bralahier\n",
      "ozi\n",
      "augratiyah\n",
      "jaok\n",
      "piz\n",
      "davartavyn\n",
      "ler\n",
      "barolanah\n",
      "yoriyah\n",
      "jane\n",
      "pux\n",
      "gernettelenan\n",
      "jandae\n",
      "dis\n",
      "maxsirin\n",
      "kay\n"
     ]
    }
   ],
   "source": [
    "# sample\n",
    "\n",
    "def sample():\n",
    "    tokens = [0] * BLOCK_SIZE\n",
    "    while True:\n",
    "        emb = C[torch.tensor(tokens[-BLOCK_SIZE:])].view(-1, EMBEDDING_DIMS * BLOCK_SIZE)\n",
    "        h = torch.tanh(emb @ W1 + b1)\n",
    "        logits = h @ W2 + b2\n",
    "        probs = F.softmax(logits, dim=1)\n",
    "        ix = torch.multinomial(probs, num_samples=1).item()\n",
    "        tokens.append(ix)\n",
    "        if ix == 0:\n",
    "            break\n",
    "    return \"\".join([char_lookup[t] for t in tokens][BLOCK_SIZE:-1])\n",
    "\n",
    "for i in range(20):\n",
    "    print(sample())"
   ]
  },
  {
   "cell_type": "code",
   "execution_count": 9,
   "id": "55cbfb6d-9e9a-469d-bcce-816af65a6a3d",
   "metadata": {},
   "outputs": [
    {
     "data": {
      "text/plain": [
       "(tensor([1.0000e+00, 3.7835e-44, 5.5211e-42, 3.7835e-44]), tensor(95.0000))"
      ]
     },
     "execution_count": 9,
     "metadata": {},
     "output_type": "execute_result"
    }
   ],
   "source": [
    "a = -torch.tensor(1/27.).log()\n",
    "logits = torch.tensor([100.,0.,5.,0.])\n",
    "probs = torch.softmax(logits, dim=0)\n",
    "probs, -probs[2].log()"
   ]
  }
 ],
 "metadata": {
  "kernelspec": {
   "display_name": "Python 3 (ipykernel)",
   "language": "python",
   "name": "python3"
  },
  "language_info": {
   "codemirror_mode": {
    "name": "ipython",
    "version": 3
   },
   "file_extension": ".py",
   "mimetype": "text/x-python",
   "name": "python",
   "nbconvert_exporter": "python",
   "pygments_lexer": "ipython3",
   "version": "3.10.0"
  }
 },
 "nbformat": 4,
 "nbformat_minor": 5
}
