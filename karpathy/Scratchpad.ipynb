{
 "cells": [
  {
   "cell_type": "code",
   "execution_count": 1,
   "id": "d0ebcb35-814d-4b8c-aa43-db54f12a7667",
   "metadata": {},
   "outputs": [],
   "source": [
    "import torch\n",
    "import matplotlib\n",
    "import torch.nn as nn"
   ]
  },
  {
   "cell_type": "code",
   "execution_count": 41,
   "id": "54179c00-87d2-4fb8-aa77-d81d9830c213",
   "metadata": {},
   "outputs": [
    {
     "data": {
      "text/plain": [
       "(tensor([0.0000, 0.0040, 0.1020, 0.2080]),\n",
       " tensor([0.2402, 0.2406, 0.2527, 0.2665]))"
      ]
     },
     "execution_count": 41,
     "metadata": {},
     "output_type": "execute_result"
    }
   ],
   "source": [
    "Q = torch.tensor([\n",
    "    [0.,0.,0.,.0],\n",
    "    [.1,0.,.1,0.],\n",
    "    [.1,.1,0.,.1],\n",
    "    [.1,.3,0.,.2],\n",
    "])\n",
    "K = torch.tensor([.04,0.08,0.,0.9])\n",
    "V = torch.tensor([1.,1.,1.,1.])\n",
    "dk_sqrt = torch.sqrt(torch.tensor(Q.shape[0]))\n",
    "\n",
    "energy = torch.softmax((Q@K.t()) / dk_sqrt, dim=0)\n",
    "(Q@K.t()), energy"
   ]
  },
  {
   "cell_type": "code",
   "execution_count": 153,
   "id": "28194caa-336c-465f-b5b5-93c91413e65a",
   "metadata": {},
   "outputs": [
    {
     "data": {
      "text/plain": [
       "tensor([-0.5581,  0.3110,  0.9848], grad_fn=<AddBackward0>)"
      ]
     },
     "execution_count": 153,
     "metadata": {},
     "output_type": "execute_result"
    }
   ],
   "source": [
    "class Attention(nn.Module):\n",
    "    \n",
    "    def __init__(self, dims, heads):\n",
    "        \n",
    "        super(Attention, self).__init__()\n",
    "        \n",
    "        self.dims = dims\n",
    "        self.heads = heads\n",
    "        self.hidden = dims * heads\n",
    "        self.q = nn.Linear(self.hidden, self.hidden)\n",
    "        self.k = nn.Linear(self.hidden, self.hidden)\n",
    "        self.v = nn.Linear(self.hidden, self.hidden)\n",
    "        \n",
    "        self.dk_sqrt = torch.sqrt(torch.tensor(dims))\n",
    "        \n",
    "        self.out_projection = nn.Linear(self.hidden, self.dims)\n",
    "        \n",
    "    def forward(self, x):\n",
    "        \n",
    "        xr = x.repeat(self.heads)\n",
    "        \n",
    "        qs = self.q(xr)\n",
    "        ks = self.k(xr)\n",
    "        vs = self.v(xr)\n",
    "        \n",
    "        energy = (qs@ks.t()) / self.dk_sqrt\n",
    "        energy = torch.softmax(energy, dim=-1)\n",
    "        \n",
    "        attention = (vs * energy)\n",
    "        \n",
    "        return self.out_projection(attention)\n",
    "    \n",
    "class MLP(nn.Module):\n",
    "    \n",
    "    def __init__(self, in_dims, hidden):\n",
    "        \n",
    "        super(MLP, self).__init__()\n",
    "        \n",
    "        self.lin1 = nn.Linear(in_dims, hidden)\n",
    "        self.lin2 = nn.Linear(hidden, in_dims)\n",
    "    \n",
    "    def forward(self, x):\n",
    "        \n",
    "        o = torch.sigmoid(self.lin1(x))\n",
    "        o = torch.softmax(self.lin2(o), dim=-1)\n",
    "        \n",
    "        return o\n",
    "    \n",
    "m = Attention(3,3)\n",
    "m(torch.tensor([1.,2.,3.]))"
   ]
  },
  {
   "cell_type": "code",
   "execution_count": 172,
   "id": "4699a7c1-7ed3-4996-af24-bdbb018e6e35",
   "metadata": {},
   "outputs": [
    {
     "name": "stdout",
     "output_type": "stream",
     "text": [
      "1.74131441116333\n",
      "0.08093179762363434\n",
      "0.022563748061656952\n",
      "0.008194752037525177\n",
      "0.0034644128754734993\n",
      "0.0016183863626793027\n"
     ]
    }
   ],
   "source": [
    "xs = torch.randn((500, 3))\n",
    "ys = torch.argmax(xs, dim=1)\n",
    "\n",
    "model = Attention(3, 3)\n",
    "criterion = torch.nn.CrossEntropyLoss()\n",
    "optimizer = torch.optim.Adam(model.parameters())\n",
    "\n",
    "for i in range(6000):\n",
    "    model.zero_grad()\n",
    "    ni = i % xs.shape[0]\n",
    "    batch = xs[ni]\n",
    "    logits = model(batch)\n",
    "    loss = criterion(logits, ys[ni])\n",
    "    loss.backward()\n",
    "    optimizer.step()\n",
    "    if i % 1000 == 0:\n",
    "        print(loss.item())"
   ]
  },
  {
   "cell_type": "code",
   "execution_count": 210,
   "id": "51c62fa8-0108-45d6-a54d-1ef411337be0",
   "metadata": {},
   "outputs": [
    {
     "name": "stdout",
     "output_type": "stream",
     "text": [
      "tensor([10.,  1.,  3., 10.,  1.,  3., 10.,  1.,  3.])\n"
     ]
    },
    {
     "data": {
      "image/png": "[encoded data removed]",
      "text/plain": [
       "<Figure size 432x288 with 1 Axes>"
      ]
     },
     "metadata": {
      "needs_background": "light"
     },
     "output_type": "display_data"
    }
   ],
   "source": [
    "x_in = torch.tensor([10.,1.,3.]).repeat(3)\n",
    "\n",
    "def attention_display(x, w, h):\n",
    "    print(x)\n",
    "    plt.imshow(x.detach()[None,...].view(w,h), cmap='gray')\n",
    "    for j in range(x.shape[0]):\n",
    "        plt.text(j % w, j // h, f'{x[j].item():.4f}', ha=\"center\", va=\"bottom\", color=\"red\")\n",
    "\n",
    "attention_display(x_in, 3, 3)"
   ]
  },
  {
   "cell_type": "code",
   "execution_count": 211,
   "id": "7186a3d7-5917-42c9-8b4b-a7b55aa17ea5",
   "metadata": {},
   "outputs": [
    {
     "name": "stdout",
     "output_type": "stream",
     "text": [
      "tensor([-0.2890,  1.4123, -4.3029,  5.8278,  0.1288,  3.3910,  1.0047,  0.4831,\n",
      "         1.1907], grad_fn=<AddBackward0>)\n"
     ]
    },
    {
     "data": {
      "image/png": "[encoded data removed]",
      "text/plain": [
       "<Figure size 432x288 with 1 Axes>"
      ]
     },
     "metadata": {
      "needs_background": "light"
     },
     "output_type": "display_data"
    }
   ],
   "source": [
    "import matplotlib.pyplot as plt\n",
    "\n",
    "qs = model.q(x_in)\n",
    "ks = model.k(x_in)\n",
    "vs = model.v(x_in)\n",
    "        \n",
    "attention_display(qs, 3, 3)"
   ]
  },
  {
   "cell_type": "code",
   "execution_count": 212,
   "id": "476dd728-b836-473d-8e80-d7f1f58ef6e4",
   "metadata": {},
   "outputs": [
    {
     "name": "stdout",
     "output_type": "stream",
     "text": [
      "tensor([-6.0057,  1.6199, -2.2467, -1.5928,  3.5710,  7.2502, -5.3089, -3.3371,\n",
      "         1.8036], grad_fn=<AddBackward0>)\n"
     ]
    },
    {
     "data": {
      "image/png": "[encoded data removed]",
      "text/plain": [
       "<Figure size 432x288 with 1 Axes>"
      ]
     },
     "metadata": {
      "needs_background": "light"
     },
     "output_type": "display_data"
    }
   ],
   "source": [
    "attention_display(ks, 3, 3)"
   ]
  },
  {
   "cell_type": "code",
   "execution_count": 213,
   "id": "be7c49d5-8cd1-472e-83e5-bfe60e9f7141",
   "metadata": {},
   "outputs": [
    {
     "name": "stdout",
     "output_type": "stream",
     "text": [
      "tensor([13.3727, -8.3064, -9.7089,  7.6738, 11.6818, 10.0033, 19.0327, 10.4102,\n",
      "        10.1479], grad_fn=<AddBackward0>)\n"
     ]
    },
    {
     "data": {
      "image/png": "[encoded data removed]",
      "text/plain": [
       "<Figure size 432x288 with 1 Axes>"
      ]
     },
     "metadata": {
      "needs_background": "light"
     },
     "output_type": "display_data"
    }
   ],
   "source": [
    "attention_display(vs, 3, 3)"
   ]
  },
  {
   "cell_type": "code",
   "execution_count": 227,
   "id": "cc11e1fd-e05b-4d34-9c51-a7eabd27914a",
   "metadata": {},
   "outputs": [
    {
     "name": "stdout",
     "output_type": "stream",
     "text": [
      "tensor([  7.9042, -14.8343,  -6.3160, -24.4852,   9.1005, -14.5798,  -4.5763,\n",
      "          5.0560,  -2.7704], grad_fn=<ViewBackward0>)\n"
     ]
    },
    {
     "data": {
      "image/png": "[encoded data removed]",
      "text/plain": [
       "<Figure size 432x288 with 1 Axes>"
      ]
     },
     "metadata": {
      "needs_background": "light"
     },
     "output_type": "display_data"
    }
   ],
   "source": [
    "energy = qs.view(3,3)@ks.view(3,3).t() / model.dk_sqrt\n",
    "attention_display(energy.view(-1), 3, 3)"
   ]
  },
  {
   "cell_type": "code",
   "execution_count": 215,
   "id": "3f9a80c2-0950-48e2-9258-06ff898a5aa9",
   "metadata": {},
   "outputs": [
    {
     "name": "stdout",
     "output_type": "stream",
     "text": [
      "tensor(1., grad_fn=<SoftmaxBackward0>)\n"
     ]
    }
   ],
   "source": [
    "sm_energy = torch.softmax(energy, dim=-1)\n",
    "print(sm_energy)"
   ]
  },
  {
   "cell_type": "code",
   "execution_count": 216,
   "id": "91c0447b-130e-44d8-8001-2dc728134483",
   "metadata": {},
   "outputs": [
    {
     "name": "stdout",
     "output_type": "stream",
     "text": [
      "tensor([13.3727, -8.3064, -9.7089,  7.6738, 11.6818, 10.0033, 19.0327, 10.4102,\n",
      "        10.1479], grad_fn=<MulBackward0>)\n"
     ]
    },
    {
     "data": {
      "image/png": "[encoded data removed]",
      "text/plain": [
       "<Figure size 432x288 with 1 Axes>"
      ]
     },
     "metadata": {
      "needs_background": "light"
     },
     "output_type": "display_data"
    }
   ],
   "source": [
    "attention = sm_energy * vs\n",
    "attention_display(attention, 3, 3)"
   ]
  },
  {
   "cell_type": "code",
   "execution_count": 199,
   "id": "3ca58667-037a-488c-baa2-85bf058bf6f1",
   "metadata": {},
   "outputs": [
    {
     "name": "stdout",
     "output_type": "stream",
     "text": [
      "tensor([-0.2890,  1.4123, -4.3029,  5.8278,  0.1288,  3.3910,  1.0047,  0.4831,\n",
      "         1.1907], grad_fn=<AddBackward0>)\n"
     ]
    },
    {
     "data": {
      "image/png": "[encoded data removed]",
      "text/plain": [
       "<Figure size 432x288 with 1 Axes>"
      ]
     },
     "metadata": {
      "needs_background": "light"
     },
     "output_type": "display_data"
    }
   ],
   "source": [
    "logits = model.out_projection(attention)\n",
    "attention_display(logits, 1, 3)"
   ]
  },
  {
   "cell_type": "code",
   "execution_count": 323,
   "id": "cd0b1490-2685-44fb-90e7-effca5988413",
   "metadata": {},
   "outputs": [
    {
     "data": {
      "text/plain": [
       "Parameter containing:\n",
       "tensor([[-0.1093,  0.3450, -0.5085],\n",
       "        [-0.2263, -0.3071,  0.0324],\n",
       "        [-0.1063, -0.5718, -0.0518]], requires_grad=True)"
      ]
     },
     "execution_count": 323,
     "metadata": {},
     "output_type": "execute_result"
    }
   ],
   "source": [
    "import copy\n",
    "import math\n",
    "import torch.functional as F\n",
    "\n",
    "def clones(module, N):\n",
    "    \"Produce N identical layers.\"\n",
    "    return nn.ModuleList([copy.deepcopy(module) for _ in range(N)])\n",
    "\n",
    "def attention(query, key, value, mask=None, dropout=None):\n",
    "    \"Compute 'Scaled Dot Product Attention'\"\n",
    "    d_k = query.size(-1)\n",
    "    scores = torch.matmul(query, key.transpose(-2, -1)) \\\n",
    "             / math.sqrt(d_k)\n",
    "    if mask is not None:\n",
    "        scores = scores.masked_fill(mask == 0, -1e9)\n",
    "    p_attn = torch.softmax(scores, dim = -1)\n",
    "    if dropout is not None:\n",
    "        p_attn = dropout(p_attn)\n",
    "    return torch.matmul(p_attn, value), p_attn\n",
    "\n",
    "class MultiHeadedAttention(nn.Module):\n",
    "    def __init__(self, h, d_model, dropout=0.1):\n",
    "        \"Take in model size and number of heads.\"\n",
    "        super(MultiHeadedAttention, self).__init__()\n",
    "        assert d_model % h == 0\n",
    "        # We assume d_v always equals d_k\n",
    "        self.d_k = d_model // h\n",
    "        self.h = h\n",
    "        self.linears = clones(nn.Linear(d_model, d_model), 4)\n",
    "        self.attn = None\n",
    "        self.dropout = nn.Dropout(p=dropout)\n",
    "        \n",
    "    def forward(self, query, key, value, mask=None):\n",
    "        \"Implements Figure 2\"\n",
    "        if mask is not None:\n",
    "            # Same mask applied to all h heads.\n",
    "            mask = mask.unsqueeze(1)\n",
    "        nbatches = query.size(0)\n",
    "        \n",
    "        # 1) Do all the linear projections in batch from d_model => h x d_k \n",
    "        query, key, value = \\\n",
    "            [l(x).view(nbatches, -1, self.h, self.d_k).transpose(1, 2)\n",
    "             for l, x in zip(self.linears, (query, key, value))]\n",
    "        \n",
    "        # 2) Apply attention on all the projected vectors in batch. \n",
    "        x, self.attn = attention(query, key, value, mask=mask, \n",
    "                                 dropout=self.dropout)\n",
    "        \n",
    "        # 3) \"Concat\" using a view and apply a final linear. \n",
    "        x = x.transpose(1, 2).contiguous() \\\n",
    "             .view(nbatches, -1, self.h * self.d_k)\n",
    "        return self.linears[-1](x)\n",
    "    \n",
    "m = MultiHeadedAttention(3, 3)\n",
    "xxs = torch.randn(1,2,3)\n",
    "m(xxs, xxs, xxs).shape\n",
    "m.linears[0].weight"
   ]
  },
  {
   "cell_type": "code",
   "execution_count": 328,
   "id": "2415f2a3-01d6-4b6d-acb3-6cd65cfc9532",
   "metadata": {},
   "outputs": [],
   "source": [
    "query, key, value = \\\n",
    "            [l(x).view(xxs.shape[0], -1, m.h, m.d_k).transpose(1, 2)\n",
    "             for l, x in zip(m.linears, (xxs, xxs, xxs))]"
   ]
  },
  {
   "cell_type": "code",
   "execution_count": 329,
   "id": "9f81419a-01f9-4836-95c2-045358edcdf5",
   "metadata": {},
   "outputs": [
    {
     "data": {
      "text/plain": [
       "tensor([[[ 0.0881, -0.0493,  0.0510],\n",
       "         [ 0.0753,  0.2720, -0.2351]]], grad_fn=<AddBackward0>)"
      ]
     },
     "execution_count": 329,
     "metadata": {},
     "output_type": "execute_result"
    }
   ],
   "source": [
    "m.linears[0](xxs)"
   ]
  },
  {
   "cell_type": "code",
   "execution_count": 330,
   "id": "9f9b2418-43b4-4f23-aee0-ac0fb0d72396",
   "metadata": {},
   "outputs": [
    {
     "data": {
      "text/plain": [
       "(tensor([[[[ 0.0881],\n",
       "           [-0.0493],\n",
       "           [ 0.0510]],\n",
       " \n",
       "          [[ 0.0753],\n",
       "           [ 0.2720],\n",
       "           [-0.2351]]]], grad_fn=<ViewBackward0>),\n",
       " torch.Size([1, 2, 3, 1]))"
      ]
     },
     "execution_count": 330,
     "metadata": {},
     "output_type": "execute_result"
    }
   ],
   "source": [
    "s1 = m.linears[0](xxs).view(xxs.shape[0], -1, m.h, m.d_k)\n",
    "s1, s1.shape"
   ]
  },
  {
   "cell_type": "code",
   "execution_count": 331,
   "id": "6e1ded04-d0ec-4c87-8521-11c599d43aac",
   "metadata": {},
   "outputs": [
    {
     "data": {
      "text/plain": [
       "(tensor([[[[ 0.0881],\n",
       "           [ 0.0753]],\n",
       " \n",
       "          [[-0.0493],\n",
       "           [ 0.2720]],\n",
       " \n",
       "          [[ 0.0510],\n",
       "           [-0.2351]]]], grad_fn=<TransposeBackward0>),\n",
       " torch.Size([1, 3, 2, 1]))"
      ]
     },
     "execution_count": 331,
     "metadata": {},
     "output_type": "execute_result"
    }
   ],
   "source": [
    "s2 = s1.transpose(1, 2)\n",
    "s2, s2.shape"
   ]
  },
  {
   "cell_type": "code",
   "execution_count": 332,
   "id": "c61c59aa-2853-4cca-97c1-9be9296c2bc8",
   "metadata": {},
   "outputs": [
    {
     "data": {
      "text/plain": [
       "(torch.Size([1, 2, 3]),\n",
       " torch.Size([1, 3, 2, 1]),\n",
       " torch.Size([1, 3, 2, 1]),\n",
       " torch.Size([1, 3, 2, 1]))"
      ]
     },
     "execution_count": 332,
     "metadata": {},
     "output_type": "execute_result"
    }
   ],
   "source": [
    "xxs.shape, query.shape, key.shape, value.shape"
   ]
  },
  {
   "cell_type": "code",
   "execution_count": 333,
   "id": "66ee927f-2658-460e-9e2d-809b1c014d39",
   "metadata": {},
   "outputs": [
    {
     "data": {
      "text/plain": [
       "tensor([[[[ 0.0881],\n",
       "          [ 0.0753]],\n",
       "\n",
       "         [[-0.0493],\n",
       "          [ 0.2720]],\n",
       "\n",
       "         [[ 0.0510],\n",
       "          [-0.2351]]]], grad_fn=<TransposeBackward0>)"
      ]
     },
     "execution_count": 333,
     "metadata": {},
     "output_type": "execute_result"
    }
   ],
   "source": [
    "query"
   ]
  },
  {
   "cell_type": "code",
   "execution_count": 334,
   "id": "4ad47af9-5817-4e8b-93d8-dca8d30ef14a",
   "metadata": {},
   "outputs": [
    {
     "data": {
      "text/plain": [
       "(tensor([[[[ 0.0817],\n",
       "           [ 0.0817]],\n",
       " \n",
       "          [[ 0.1101],\n",
       "           [ 0.1184]],\n",
       " \n",
       "          [[-0.0910],\n",
       "           [-0.0969]]]], grad_fn=<UnsafeViewBackward0>),\n",
       " tensor([[[[0.5003, 0.4997],\n",
       "           [0.5002, 0.4998]],\n",
       " \n",
       "          [[0.5040, 0.4960],\n",
       "           [0.4782, 0.5218]],\n",
       " \n",
       "          [[0.5036, 0.4964],\n",
       "           [0.4832, 0.5168]]]], grad_fn=<SoftmaxBackward0>))"
      ]
     },
     "execution_count": 334,
     "metadata": {},
     "output_type": "execute_result"
    }
   ],
   "source": [
    "x, attn = attention(query, key, value, mask=None, dropout=None)\n",
    "x, attn"
   ]
  },
  {
   "cell_type": "code",
   "execution_count": 335,
   "id": "7ad56782-ea72-4313-a605-3024f40b8f28",
   "metadata": {},
   "outputs": [
    {
     "data": {
      "text/plain": [
       "tensor([[[[ 0.0817],\n",
       "          [ 0.1101],\n",
       "          [-0.0910]],\n",
       "\n",
       "         [[ 0.0817],\n",
       "          [ 0.1184],\n",
       "          [-0.0969]]]], grad_fn=<CloneBackward0>)"
      ]
     },
     "execution_count": 335,
     "metadata": {},
     "output_type": "execute_result"
    }
   ],
   "source": [
    "x.transpose(1, 2).contiguous()"
   ]
  },
  {
   "cell_type": "code",
   "execution_count": 337,
   "id": "f7b744ee-c5a1-4914-9681-04c4be0e6add",
   "metadata": {},
   "outputs": [
    {
     "data": {
      "text/plain": [
       "tensor([[[ 0.0817,  0.1101, -0.0910],\n",
       "         [ 0.0817,  0.1184, -0.0969]]], grad_fn=<ViewBackward0>)"
      ]
     },
     "execution_count": 337,
     "metadata": {},
     "output_type": "execute_result"
    }
   ],
   "source": [
    "xc = x.transpose(1, 2).contiguous().view(xxs.shape[0], -1, m.h * m.d_k)\n",
    "xc"
   ]
  },
  {
   "cell_type": "code",
   "execution_count": 338,
   "id": "0c2d8670-0f8b-4f7b-9eb0-e18ec9c88b6b",
   "metadata": {},
   "outputs": [
    {
     "data": {
      "text/plain": [
       "tensor([[[ 0.2168,  0.0308, -0.3662],\n",
       "         [ 0.2227,  0.0280, -0.3706]]], grad_fn=<AddBackward0>)"
      ]
     },
     "execution_count": 338,
     "metadata": {},
     "output_type": "execute_result"
    }
   ],
   "source": [
    "m.linears[-1](xc)"
   ]
  },
  {
   "cell_type": "code",
   "execution_count": 357,
   "id": "28b02338-e4cd-47e7-9098-c351cb79437b",
   "metadata": {},
   "outputs": [
    {
     "data": {
      "text/plain": [
       "(tensor([[[[ 0.4465],\n",
       "           [-1.1654],\n",
       "           [ 0.3854]],\n",
       " \n",
       "          [[ 0.2602],\n",
       "           [ 0.8099],\n",
       "           [ 0.9536]]],\n",
       " \n",
       " \n",
       "         [[[ 0.8053],\n",
       "           [-0.8115],\n",
       "           [-0.3507]],\n",
       " \n",
       "          [[ 1.6561],\n",
       "           [-1.0229],\n",
       "           [-0.8902]]],\n",
       " \n",
       " \n",
       "         [[[-1.7839],\n",
       "           [-0.6346],\n",
       "           [-0.9602]],\n",
       " \n",
       "          [[-0.5324],\n",
       "           [-0.3269],\n",
       "           [ 1.0481]]],\n",
       " \n",
       " \n",
       "         [[[ 0.0984],\n",
       "           [-1.3396],\n",
       "           [-0.7955]],\n",
       " \n",
       "          [[ 0.7466],\n",
       "           [-0.4345],\n",
       "           [-1.5201]]]]),\n",
       " tensor([[[[-0.5250, -0.7298,  1.1274, -2.0542],\n",
       "           [ 0.0826,  0.0988, -0.5345, -0.1224],\n",
       "           [ 1.8959, -0.3618,  0.1356, -0.7332]],\n",
       " \n",
       "          [[ 0.6610,  0.3381, -0.2620,  0.2208],\n",
       "           [ 0.9009, -1.0438, -1.0590,  1.4567],\n",
       "           [-1.1625,  0.9670, -0.4196, -0.0286]]]]))"
      ]
     },
     "execution_count": 357,
     "metadata": {},
     "output_type": "execute_result"
    }
   ],
   "source": [
    "import json\n",
    "torch.randn((1,2,3,4)).transpose(0,3),torch.randn((1,2,3,4))"
   ]
  },
  {
   "cell_type": "code",
   "execution_count": 35,
   "id": "7b845158-ef88-4811-bf77-9d831f18162d",
   "metadata": {},
   "outputs": [
    {
     "data": {
      "text/plain": [
       "(tensor([[[400, 401, 402, 403, 404, 405, 406, 407, 408, 409],\n",
       "          [410, 411, 412, 413, 414, 415, 416, 417, 418, 419],\n",
       "          [420, 421, 422, 423, 424, 425, 426, 427, 428, 429],\n",
       "          [430, 431, 432, 433, 434, 435, 436, 437, 438, 439],\n",
       "          [440, 441, 442, 443, 444, 445, 446, 447, 448, 449],\n",
       "          [450, 451, 452, 453, 454, 455, 456, 457, 458, 459],\n",
       "          [460, 461, 462, 463, 464, 465, 466, 467, 468, 469],\n",
       "          [470, 471, 472, 473, 474, 475, 476, 477, 478, 479],\n",
       "          [480, 481, 482, 483, 484, 485, 486, 487, 488, 489],\n",
       "          [490, 491, 492, 493, 494, 495, 496, 497, 498, 499]],\n",
       " \n",
       "         [[500, 501, 502, 503, 504, 505, 506, 507, 508, 509],\n",
       "          [510, 511, 512, 513, 514, 515, 516, 517, 518, 519],\n",
       "          [520, 521, 522, 523, 524, 525, 526, 527, 528, 529],\n",
       "          [530, 531, 532, 533, 534, 535, 536, 537, 538, 539],\n",
       "          [540, 541, 542, 543, 544, 545, 546, 547, 548, 549],\n",
       "          [550, 551, 552, 553, 554, 555, 556, 557, 558, 559],\n",
       "          [560, 561, 562, 563, 564, 565, 566, 567, 568, 569],\n",
       "          [570, 571, 572, 573, 574, 575, 576, 577, 578, 579],\n",
       "          [580, 581, 582, 583, 584, 585, 586, 587, 588, 589],\n",
       "          [590, 591, 592, 593, 594, 595, 596, 597, 598, 599]],\n",
       " \n",
       "         [[600, 601, 602, 603, 604, 605, 606, 607, 608, 609],\n",
       "          [610, 611, 612, 613, 614, 615, 616, 617, 618, 619],\n",
       "          [620, 621, 622, 623, 624, 625, 626, 627, 628, 629],\n",
       "          [630, 631, 632, 633, 634, 635, 636, 637, 638, 639],\n",
       "          [640, 641, 642, 643, 644, 645, 646, 647, 648, 649],\n",
       "          [650, 651, 652, 653, 654, 655, 656, 657, 658, 659],\n",
       "          [660, 661, 662, 663, 664, 665, 666, 667, 668, 669],\n",
       "          [670, 671, 672, 673, 674, 675, 676, 677, 678, 679],\n",
       "          [680, 681, 682, 683, 684, 685, 686, 687, 688, 689],\n",
       "          [690, 691, 692, 693, 694, 695, 696, 697, 698, 699]]],\n",
       "        dtype=torch.int32),\n",
       " tensor([[[400, 410, 420, 430, 440, 450, 460, 470, 480, 490],\n",
       "          [401, 411, 421, 431, 441, 451, 461, 471, 481, 491],\n",
       "          [402, 412, 422, 432, 442, 452, 462, 472, 482, 492],\n",
       "          [403, 413, 423, 433, 443, 453, 463, 473, 483, 493],\n",
       "          [404, 414, 424, 434, 444, 454, 464, 474, 484, 494],\n",
       "          [405, 415, 425, 435, 445, 455, 465, 475, 485, 495],\n",
       "          [406, 416, 426, 436, 446, 456, 466, 476, 486, 496],\n",
       "          [407, 417, 427, 437, 447, 457, 467, 477, 487, 497],\n",
       "          [408, 418, 428, 438, 448, 458, 468, 478, 488, 498],\n",
       "          [409, 419, 429, 439, 449, 459, 469, 479, 489, 499]],\n",
       " \n",
       "         [[500, 510, 520, 530, 540, 550, 560, 570, 580, 590],\n",
       "          [501, 511, 521, 531, 541, 551, 561, 571, 581, 591],\n",
       "          [502, 512, 522, 532, 542, 552, 562, 572, 582, 592],\n",
       "          [503, 513, 523, 533, 543, 553, 563, 573, 583, 593],\n",
       "          [504, 514, 524, 534, 544, 554, 564, 574, 584, 594],\n",
       "          [505, 515, 525, 535, 545, 555, 565, 575, 585, 595],\n",
       "          [506, 516, 526, 536, 546, 556, 566, 576, 586, 596],\n",
       "          [507, 517, 527, 537, 547, 557, 567, 577, 587, 597],\n",
       "          [508, 518, 528, 538, 548, 558, 568, 578, 588, 598],\n",
       "          [509, 519, 529, 539, 549, 559, 569, 579, 589, 599]],\n",
       " \n",
       "         [[600, 610, 620, 630, 640, 650, 660, 670, 680, 690],\n",
       "          [601, 611, 621, 631, 641, 651, 661, 671, 681, 691],\n",
       "          [602, 612, 622, 632, 642, 652, 662, 672, 682, 692],\n",
       "          [603, 613, 623, 633, 643, 653, 663, 673, 683, 693],\n",
       "          [604, 614, 624, 634, 644, 654, 664, 674, 684, 694],\n",
       "          [605, 615, 625, 635, 645, 655, 665, 675, 685, 695],\n",
       "          [606, 616, 626, 636, 646, 656, 666, 676, 686, 696],\n",
       "          [607, 617, 627, 637, 647, 657, 667, 677, 687, 697],\n",
       "          [608, 618, 628, 638, 648, 658, 668, 678, 688, 698],\n",
       "          [609, 619, 629, 639, 649, 659, 669, 679, 689, 699]]],\n",
       "        dtype=torch.int32))"
      ]
     },
     "execution_count": 35,
     "metadata": {},
     "output_type": "execute_result"
    }
   ],
   "source": [
    "a = (torch.arange(300) / 100).int().view(-1,10,10)\n",
    "b = (torch.arange(400, 700)).int().view(-1,10,10)\n",
    "b, b.transpose(-2,-1)"
   ]
  }
 ],
 "metadata": {
  "kernelspec": {
   "display_name": "Python 3 (ipykernel)",
   "language": "python",
   "name": "python3"
  },
  "language_info": {
   "codemirror_mode": {
    "name": "ipython",
    "version": 3
   },
   "file_extension": ".py",
   "mimetype": "text/x-python",
   "name": "python",
   "nbconvert_exporter": "python",
   "pygments_lexer": "ipython3",
   "version": "3.10.6"
  }
 },
 "nbformat": 4,
 "nbformat_minor": 5
}
